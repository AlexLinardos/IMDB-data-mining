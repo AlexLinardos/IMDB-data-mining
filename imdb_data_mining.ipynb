{
  "nbformat": 4,
  "nbformat_minor": 0,
  "metadata": {
    "language_info": {
      "codemirror_mode": {
        "name": "ipython",
        "version": 3
      },
      "file_extension": ".py",
      "mimetype": "text/x-python",
      "name": "python",
      "nbconvert_exporter": "python",
      "pygments_lexer": "ipython3",
      "version": "3.8.6"
    },
    "orig_nbformat": 2,
    "kernelspec": {
      "name": "python386jvsc74a57bd00e1d95afdb5ad6aaa79c1cd910ec9e6c47c872343ad390800c88727f6f67c4c9",
      "display_name": "Python 3.8.6 32-bit"
    },
    "metadata": {
      "interpreter": {
        "hash": "0e1d95afdb5ad6aaa79c1cd910ec9e6c47c872343ad390800c88727f6f67c4c9"
      }
    },
    "colab": {
      "provenance": [],
      "collapsed_sections": [],
      "toc_visible": true
    }
  },
  "cells": [
    {
      "cell_type": "markdown",
      "metadata": {
        "id": "jmWE7zdxFp6O"
      },
      "source": [
        "Μέλη ομάδας: <br>\n",
        "**Αντώνης Μήλιος - sdi1600100** <br>\n",
        "**Αλέξανδρος Λινάρδος - sdi1600093**"
      ]
    },
    {
      "cell_type": "code",
      "metadata": {
        "id": "N-Uev-NzLjek"
      },
      "source": [
        "import pandas as pd\n",
        "import matplotlib.pyplot as plt\n",
        "import numpy as np \n",
        "import sys\n",
        "import matplotlib\n",
        "import seaborn as sn\n",
        "\n",
        "%matplotlib inline "
      ],
      "execution_count": null,
      "outputs": []
    },
    {
      "cell_type": "code",
      "metadata": {
        "id": "VeFpxw4qLjer",
        "colab": {
          "base_uri": "https://localhost:8080/"
        },
        "outputId": "0106afc9-19ae-4567-8aa8-704d55cde18b"
      },
      "source": [
        "print('Python version ' + sys.version)\n",
        "print('Pandas version ' + pd.__version__)\n",
        "print('Matplotlib version ' + matplotlib.__version__)\n",
        "print('Numpy version' + np.__version__)"
      ],
      "execution_count": null,
      "outputs": [
        {
          "output_type": "stream",
          "text": [
            "Python version 3.7.10 (default, Feb 20 2021, 21:17:23) \n",
            "[GCC 7.5.0]\n",
            "Pandas version 1.1.5\n",
            "Matplotlib version 3.2.2\n",
            "Numpy version1.19.5\n"
          ],
          "name": "stdout"
        }
      ]
    },
    {
      "cell_type": "code",
      "metadata": {
        "colab": {
          "base_uri": "https://localhost:8080/"
        },
        "id": "av0H4v7sPCjZ",
        "outputId": "f066e890-1cb8-46a1-b55c-a4bc5472f825"
      },
      "source": [
        "from google.colab import drive\n",
        "drive.mount('/content/gdrive')"
      ],
      "execution_count": null,
      "outputs": [
        {
          "output_type": "stream",
          "text": [
            "Mounted at /content/gdrive\n"
          ],
          "name": "stdout"
        }
      ]
    },
    {
      "cell_type": "markdown",
      "metadata": {
        "id": "dRhhvoQlGj_7"
      },
      "source": [
        "# Ερωτήματα"
      ]
    },
    {
      "cell_type": "code",
      "metadata": {
        "id": "O429-THT4cYS",
        "colab": {
          "base_uri": "https://localhost:8080/",
          "height": 1000
        },
        "outputId": "2d3b533b-eb77-4ea9-8bf4-ae99b320da74"
      },
      "source": [
        "path = r'/content/gdrive/MyDrive/TED/Ergasia1/netflix_titles.csv'\n",
        "df_netflix = pd.read_csv(path)\n",
        "df_netflix.info()\n",
        "df_netflix"
      ],
      "execution_count": null,
      "outputs": [
        {
          "output_type": "stream",
          "text": [
            "<class 'pandas.core.frame.DataFrame'>\n",
            "RangeIndex: 7787 entries, 0 to 7786\n",
            "Data columns (total 12 columns):\n",
            " #   Column        Non-Null Count  Dtype \n",
            "---  ------        --------------  ----- \n",
            " 0   show_id       7787 non-null   object\n",
            " 1   type          7787 non-null   object\n",
            " 2   title         7787 non-null   object\n",
            " 3   director      5398 non-null   object\n",
            " 4   cast          7069 non-null   object\n",
            " 5   country       7280 non-null   object\n",
            " 6   date_added    7777 non-null   object\n",
            " 7   release_year  7787 non-null   int64 \n",
            " 8   rating        7780 non-null   object\n",
            " 9   duration      7787 non-null   object\n",
            " 10  listed_in     7787 non-null   object\n",
            " 11  description   7787 non-null   object\n",
            "dtypes: int64(1), object(11)\n",
            "memory usage: 730.2+ KB\n"
          ],
          "name": "stdout"
        },
        {
          "output_type": "execute_result",
          "data": {
            "text/html": [
              "<div>\n",
              "<style scoped>\n",
              "    .dataframe tbody tr th:only-of-type {\n",
              "        vertical-align: middle;\n",
              "    }\n",
              "\n",
              "    .dataframe tbody tr th {\n",
              "        vertical-align: top;\n",
              "    }\n",
              "\n",
              "    .dataframe thead th {\n",
              "        text-align: right;\n",
              "    }\n",
              "</style>\n",
              "<table border=\"1\" class=\"dataframe\">\n",
              "  <thead>\n",
              "    <tr style=\"text-align: right;\">\n",
              "      <th></th>\n",
              "      <th>show_id</th>\n",
              "      <th>type</th>\n",
              "      <th>title</th>\n",
              "      <th>director</th>\n",
              "      <th>cast</th>\n",
              "      <th>country</th>\n",
              "      <th>date_added</th>\n",
              "      <th>release_year</th>\n",
              "      <th>rating</th>\n",
              "      <th>duration</th>\n",
              "      <th>listed_in</th>\n",
              "      <th>description</th>\n",
              "    </tr>\n",
              "  </thead>\n",
              "  <tbody>\n",
              "    <tr>\n",
              "      <th>0</th>\n",
              "      <td>s1</td>\n",
              "      <td>TV Show</td>\n",
              "      <td>3%</td>\n",
              "      <td>NaN</td>\n",
              "      <td>João Miguel, Bianca Comparato, Michel Gomes, R...</td>\n",
              "      <td>Brazil</td>\n",
              "      <td>August 14, 2020</td>\n",
              "      <td>2020</td>\n",
              "      <td>TV-MA</td>\n",
              "      <td>4 Seasons</td>\n",
              "      <td>International TV Shows, TV Dramas, TV Sci-Fi &amp;...</td>\n",
              "      <td>In a future where the elite inhabit an island ...</td>\n",
              "    </tr>\n",
              "    <tr>\n",
              "      <th>1</th>\n",
              "      <td>s2</td>\n",
              "      <td>Movie</td>\n",
              "      <td>7:19</td>\n",
              "      <td>Jorge Michel Grau</td>\n",
              "      <td>Demián Bichir, Héctor Bonilla, Oscar Serrano, ...</td>\n",
              "      <td>Mexico</td>\n",
              "      <td>December 23, 2016</td>\n",
              "      <td>2016</td>\n",
              "      <td>TV-MA</td>\n",
              "      <td>93 min</td>\n",
              "      <td>Dramas, International Movies</td>\n",
              "      <td>After a devastating earthquake hits Mexico Cit...</td>\n",
              "    </tr>\n",
              "    <tr>\n",
              "      <th>2</th>\n",
              "      <td>s3</td>\n",
              "      <td>Movie</td>\n",
              "      <td>23:59</td>\n",
              "      <td>Gilbert Chan</td>\n",
              "      <td>Tedd Chan, Stella Chung, Henley Hii, Lawrence ...</td>\n",
              "      <td>Singapore</td>\n",
              "      <td>December 20, 2018</td>\n",
              "      <td>2011</td>\n",
              "      <td>R</td>\n",
              "      <td>78 min</td>\n",
              "      <td>Horror Movies, International Movies</td>\n",
              "      <td>When an army recruit is found dead, his fellow...</td>\n",
              "    </tr>\n",
              "    <tr>\n",
              "      <th>3</th>\n",
              "      <td>s4</td>\n",
              "      <td>Movie</td>\n",
              "      <td>9</td>\n",
              "      <td>Shane Acker</td>\n",
              "      <td>Elijah Wood, John C. Reilly, Jennifer Connelly...</td>\n",
              "      <td>United States</td>\n",
              "      <td>November 16, 2017</td>\n",
              "      <td>2009</td>\n",
              "      <td>PG-13</td>\n",
              "      <td>80 min</td>\n",
              "      <td>Action &amp; Adventure, Independent Movies, Sci-Fi...</td>\n",
              "      <td>In a postapocalyptic world, rag-doll robots hi...</td>\n",
              "    </tr>\n",
              "    <tr>\n",
              "      <th>4</th>\n",
              "      <td>s5</td>\n",
              "      <td>Movie</td>\n",
              "      <td>21</td>\n",
              "      <td>Robert Luketic</td>\n",
              "      <td>Jim Sturgess, Kevin Spacey, Kate Bosworth, Aar...</td>\n",
              "      <td>United States</td>\n",
              "      <td>January 1, 2020</td>\n",
              "      <td>2008</td>\n",
              "      <td>PG-13</td>\n",
              "      <td>123 min</td>\n",
              "      <td>Dramas</td>\n",
              "      <td>A brilliant group of students become card-coun...</td>\n",
              "    </tr>\n",
              "    <tr>\n",
              "      <th>...</th>\n",
              "      <td>...</td>\n",
              "      <td>...</td>\n",
              "      <td>...</td>\n",
              "      <td>...</td>\n",
              "      <td>...</td>\n",
              "      <td>...</td>\n",
              "      <td>...</td>\n",
              "      <td>...</td>\n",
              "      <td>...</td>\n",
              "      <td>...</td>\n",
              "      <td>...</td>\n",
              "      <td>...</td>\n",
              "    </tr>\n",
              "    <tr>\n",
              "      <th>7782</th>\n",
              "      <td>s7783</td>\n",
              "      <td>Movie</td>\n",
              "      <td>Zozo</td>\n",
              "      <td>Josef Fares</td>\n",
              "      <td>Imad Creidi, Antoinette Turk, Elias Gergi, Car...</td>\n",
              "      <td>Sweden, Czech Republic, United Kingdom, Denmar...</td>\n",
              "      <td>October 19, 2020</td>\n",
              "      <td>2005</td>\n",
              "      <td>TV-MA</td>\n",
              "      <td>99 min</td>\n",
              "      <td>Dramas, International Movies</td>\n",
              "      <td>When Lebanon's Civil War deprives Zozo of his ...</td>\n",
              "    </tr>\n",
              "    <tr>\n",
              "      <th>7783</th>\n",
              "      <td>s7784</td>\n",
              "      <td>Movie</td>\n",
              "      <td>Zubaan</td>\n",
              "      <td>Mozez Singh</td>\n",
              "      <td>Vicky Kaushal, Sarah-Jane Dias, Raaghav Chanan...</td>\n",
              "      <td>India</td>\n",
              "      <td>March 2, 2019</td>\n",
              "      <td>2015</td>\n",
              "      <td>TV-14</td>\n",
              "      <td>111 min</td>\n",
              "      <td>Dramas, International Movies, Music &amp; Musicals</td>\n",
              "      <td>A scrappy but poor boy worms his way into a ty...</td>\n",
              "    </tr>\n",
              "    <tr>\n",
              "      <th>7784</th>\n",
              "      <td>s7785</td>\n",
              "      <td>Movie</td>\n",
              "      <td>Zulu Man in Japan</td>\n",
              "      <td>NaN</td>\n",
              "      <td>Nasty C</td>\n",
              "      <td>NaN</td>\n",
              "      <td>September 25, 2020</td>\n",
              "      <td>2019</td>\n",
              "      <td>TV-MA</td>\n",
              "      <td>44 min</td>\n",
              "      <td>Documentaries, International Movies, Music &amp; M...</td>\n",
              "      <td>In this documentary, South African rapper Nast...</td>\n",
              "    </tr>\n",
              "    <tr>\n",
              "      <th>7785</th>\n",
              "      <td>s7786</td>\n",
              "      <td>TV Show</td>\n",
              "      <td>Zumbo's Just Desserts</td>\n",
              "      <td>NaN</td>\n",
              "      <td>Adriano Zumbo, Rachel Khoo</td>\n",
              "      <td>Australia</td>\n",
              "      <td>October 31, 2020</td>\n",
              "      <td>2019</td>\n",
              "      <td>TV-PG</td>\n",
              "      <td>1 Season</td>\n",
              "      <td>International TV Shows, Reality TV</td>\n",
              "      <td>Dessert wizard Adriano Zumbo looks for the nex...</td>\n",
              "    </tr>\n",
              "    <tr>\n",
              "      <th>7786</th>\n",
              "      <td>s7787</td>\n",
              "      <td>Movie</td>\n",
              "      <td>ZZ TOP: THAT LITTLE OL' BAND FROM TEXAS</td>\n",
              "      <td>Sam Dunn</td>\n",
              "      <td>NaN</td>\n",
              "      <td>United Kingdom, Canada, United States</td>\n",
              "      <td>March 1, 2020</td>\n",
              "      <td>2019</td>\n",
              "      <td>TV-MA</td>\n",
              "      <td>90 min</td>\n",
              "      <td>Documentaries, Music &amp; Musicals</td>\n",
              "      <td>This documentary delves into the mystique behi...</td>\n",
              "    </tr>\n",
              "  </tbody>\n",
              "</table>\n",
              "<p>7787 rows × 12 columns</p>\n",
              "</div>"
            ],
            "text/plain": [
              "     show_id  ...                                        description\n",
              "0         s1  ...  In a future where the elite inhabit an island ...\n",
              "1         s2  ...  After a devastating earthquake hits Mexico Cit...\n",
              "2         s3  ...  When an army recruit is found dead, his fellow...\n",
              "3         s4  ...  In a postapocalyptic world, rag-doll robots hi...\n",
              "4         s5  ...  A brilliant group of students become card-coun...\n",
              "...      ...  ...                                                ...\n",
              "7782   s7783  ...  When Lebanon's Civil War deprives Zozo of his ...\n",
              "7783   s7784  ...  A scrappy but poor boy worms his way into a ty...\n",
              "7784   s7785  ...  In this documentary, South African rapper Nast...\n",
              "7785   s7786  ...  Dessert wizard Adriano Zumbo looks for the nex...\n",
              "7786   s7787  ...  This documentary delves into the mystique behi...\n",
              "\n",
              "[7787 rows x 12 columns]"
            ]
          },
          "metadata": {
            "tags": []
          },
          "execution_count": 4
        }
      ]
    },
    {
      "cell_type": "code",
      "metadata": {
        "id": "e-xXdex2RmPL",
        "colab": {
          "base_uri": "https://localhost:8080/"
        },
        "outputId": "627a4c87-4926-48a5-de80-96d3dc351dd0"
      },
      "source": [
        "path = r'/content/gdrive/MyDrive/TED/Ergasia1/IMDb movies.csv' # Τo r κάνει escape όλους τους χαρακτήρες στην συμβολοσειρά\n",
        "df_imbd_m = pd.read_csv(path)\n",
        "df_imbd_m['country'].fillna('Unknown', inplace = True)\n",
        "df_imbd_m.info()"
      ],
      "execution_count": null,
      "outputs": [
        {
          "output_type": "stream",
          "text": [
            "<class 'pandas.core.frame.DataFrame'>\n",
            "RangeIndex: 85855 entries, 0 to 85854\n",
            "Data columns (total 22 columns):\n",
            " #   Column                 Non-Null Count  Dtype  \n",
            "---  ------                 --------------  -----  \n",
            " 0   imdb_title_id          85855 non-null  object \n",
            " 1   title                  85855 non-null  object \n",
            " 2   original_title         85855 non-null  object \n",
            " 3   year                   85855 non-null  object \n",
            " 4   date_published         85855 non-null  object \n",
            " 5   genre                  85855 non-null  object \n",
            " 6   duration               85855 non-null  int64  \n",
            " 7   country                85855 non-null  object \n",
            " 8   language               85022 non-null  object \n",
            " 9   director               85768 non-null  object \n",
            " 10  writer                 84283 non-null  object \n",
            " 11  production_company     81400 non-null  object \n",
            " 12  actors                 85786 non-null  object \n",
            " 13  description            83740 non-null  object \n",
            " 14  avg_vote               85855 non-null  float64\n",
            " 15  votes                  85855 non-null  int64  \n",
            " 16  budget                 23710 non-null  object \n",
            " 17  usa_gross_income       15326 non-null  object \n",
            " 18  worlwide_gross_income  31016 non-null  object \n",
            " 19  metascore              13305 non-null  float64\n",
            " 20  reviews_from_users     78258 non-null  float64\n",
            " 21  reviews_from_critics   74058 non-null  float64\n",
            "dtypes: float64(4), int64(2), object(16)\n",
            "memory usage: 14.4+ MB\n"
          ],
          "name": "stdout"
        },
        {
          "output_type": "stream",
          "text": [
            "/usr/local/lib/python3.7/dist-packages/IPython/core/interactiveshell.py:2718: DtypeWarning: Columns (3) have mixed types.Specify dtype option on import or set low_memory=False.\n",
            "  interactivity=interactivity, compiler=compiler, result=result)\n"
          ],
          "name": "stderr"
        }
      ]
    },
    {
      "cell_type": "code",
      "metadata": {
        "id": "DwHQc4fL1qSf",
        "colab": {
          "base_uri": "https://localhost:8080/"
        },
        "outputId": "e1141069-1373-4238-ff84-8830cce3f79c"
      },
      "source": [
        "path = r'/content/gdrive/MyDrive/TED/Ergasia1/IMDb ratings.csv'\n",
        "df_ratings = pd.read_csv(path)\n",
        "df_ratings.info()"
      ],
      "execution_count": null,
      "outputs": [
        {
          "output_type": "stream",
          "text": [
            "<class 'pandas.core.frame.DataFrame'>\n",
            "RangeIndex: 85855 entries, 0 to 85854\n",
            "Data columns (total 49 columns):\n",
            " #   Column                     Non-Null Count  Dtype  \n",
            "---  ------                     --------------  -----  \n",
            " 0   imdb_title_id              85855 non-null  object \n",
            " 1   weighted_average_vote      85855 non-null  float64\n",
            " 2   total_votes                85855 non-null  int64  \n",
            " 3   mean_vote                  85855 non-null  float64\n",
            " 4   median_vote                85855 non-null  float64\n",
            " 5   votes_10                   85855 non-null  int64  \n",
            " 6   votes_9                    85855 non-null  int64  \n",
            " 7   votes_8                    85855 non-null  int64  \n",
            " 8   votes_7                    85855 non-null  int64  \n",
            " 9   votes_6                    85855 non-null  int64  \n",
            " 10  votes_5                    85855 non-null  int64  \n",
            " 11  votes_4                    85855 non-null  int64  \n",
            " 12  votes_3                    85855 non-null  int64  \n",
            " 13  votes_2                    85855 non-null  int64  \n",
            " 14  votes_1                    85855 non-null  int64  \n",
            " 15  allgenders_0age_avg_vote   33359 non-null  float64\n",
            " 16  allgenders_0age_votes      33359 non-null  float64\n",
            " 17  allgenders_18age_avg_vote  85149 non-null  float64\n",
            " 18  allgenders_18age_votes     85149 non-null  float64\n",
            " 19  allgenders_30age_avg_vote  85845 non-null  float64\n",
            " 20  allgenders_30age_votes     85845 non-null  float64\n",
            " 21  allgenders_45age_avg_vote  85775 non-null  float64\n",
            " 22  allgenders_45age_votes     85775 non-null  float64\n",
            " 23  males_allages_avg_vote     85854 non-null  float64\n",
            " 24  males_allages_votes        85854 non-null  float64\n",
            " 25  males_0age_avg_vote        27411 non-null  float64\n",
            " 26  males_0age_votes           27411 non-null  float64\n",
            " 27  males_18age_avg_vote       84390 non-null  float64\n",
            " 28  males_18age_votes          84390 non-null  float64\n",
            " 29  males_30age_avg_vote       85843 non-null  float64\n",
            " 30  males_30age_votes          85843 non-null  float64\n",
            " 31  males_45age_avg_vote       85754 non-null  float64\n",
            " 32  males_45age_votes          85754 non-null  float64\n",
            " 33  females_allages_avg_vote   85774 non-null  float64\n",
            " 34  females_allages_votes      85774 non-null  float64\n",
            " 35  females_0age_avg_vote      22117 non-null  float64\n",
            " 36  females_0age_votes         22117 non-null  float64\n",
            " 37  females_18age_avg_vote     79334 non-null  float64\n",
            " 38  females_18age_votes        79334 non-null  float64\n",
            " 39  females_30age_avg_vote     84911 non-null  float64\n",
            " 40  females_30age_votes        84911 non-null  float64\n",
            " 41  females_45age_avg_vote     83057 non-null  float64\n",
            " 42  females_45age_votes        83057 non-null  float64\n",
            " 43  top1000_voters_rating      85176 non-null  float64\n",
            " 44  top1000_voters_votes       85176 non-null  float64\n",
            " 45  us_voters_rating           85646 non-null  float64\n",
            " 46  us_voters_votes            85646 non-null  float64\n",
            " 47  non_us_voters_rating       85854 non-null  float64\n",
            " 48  non_us_voters_votes        85854 non-null  float64\n",
            "dtypes: float64(37), int64(11), object(1)\n",
            "memory usage: 32.1+ MB\n"
          ],
          "name": "stdout"
        }
      ]
    },
    {
      "cell_type": "code",
      "metadata": {
        "id": "CltIOJ-pLjet"
      },
      "source": [
        "df_netflix['director'].fillna('Unknown', inplace = True)\n",
        "df_netflix['cast'].fillna('Unknown', inplace = True)\n",
        "df_netflix['country'].fillna('Unknown', inplace = True)\n",
        "df_netflix['date_added'].fillna('Unknown', inplace = True)\n",
        "df_netflix['rating'].fillna('Unknown', inplace = True)\n",
        "df_netflix.fillna('Unknown', inplace = True)"
      ],
      "execution_count": null,
      "outputs": []
    },
    {
      "cell_type": "code",
      "metadata": {
        "id": "nrvo0-jZLjet",
        "colab": {
          "base_uri": "https://localhost:8080/"
        },
        "outputId": "17421e9b-6955-4ad6-ec5f-8f1225d95bd4"
      },
      "source": [
        "df_netflix.info()"
      ],
      "execution_count": null,
      "outputs": [
        {
          "output_type": "stream",
          "text": [
            "<class 'pandas.core.frame.DataFrame'>\n",
            "RangeIndex: 7787 entries, 0 to 7786\n",
            "Data columns (total 12 columns):\n",
            " #   Column        Non-Null Count  Dtype \n",
            "---  ------        --------------  ----- \n",
            " 0   show_id       7787 non-null   object\n",
            " 1   type          7787 non-null   object\n",
            " 2   title         7787 non-null   object\n",
            " 3   director      7787 non-null   object\n",
            " 4   cast          7787 non-null   object\n",
            " 5   country       7787 non-null   object\n",
            " 6   date_added    7787 non-null   object\n",
            " 7   release_year  7787 non-null   int64 \n",
            " 8   rating        7787 non-null   object\n",
            " 9   duration      7787 non-null   object\n",
            " 10  listed_in     7787 non-null   object\n",
            " 11  description   7787 non-null   object\n",
            "dtypes: int64(1), object(11)\n",
            "memory usage: 730.2+ KB\n"
          ],
          "name": "stdout"
        }
      ]
    },
    {
      "cell_type": "markdown",
      "metadata": {
        "id": "0P5B459iLjeu"
      },
      "source": [
        "## Ερώτημα 1"
      ]
    },
    {
      "cell_type": "code",
      "metadata": {
        "id": "mDOt4UnjLjeu",
        "colab": {
          "base_uri": "https://localhost:8080/",
          "height": 310
        },
        "outputId": "f4876129-982f-4c10-a5df-0d468b64afd4"
      },
      "source": [
        "df_netflix['type'].value_counts().plot(kind='bar', color=['darkviolet', 'darkorange'], rot=0)\n",
        "plt.xlabel(\"Content type\", labelpad=14)\n",
        "plt.ylabel(\"Content count\", labelpad=14)\n",
        "plt.title(\"Content count by type\", y=1.02);"
      ],
      "execution_count": null,
      "outputs": [
        {
          "output_type": "display_data",
          "data": {
            "image/png": "[encoded data removed]",
            "text/plain": [
              "<Figure size 432x288 with 1 Axes>"
            ]
          },
          "metadata": {
            "tags": [],
            "needs_background": "light"
          }
        }
      ]
    },
    {
      "cell_type": "markdown",
      "metadata": {
        "id": "3cZWldCUfXSl"
      },
      "source": [
        "## Ερώτημα 2"
      ]
    },
    {
      "cell_type": "markdown",
      "metadata": {
        "id": "vYs4z01ziYcX"
      },
      "source": [
        "### Movie releases over the years"
      ]
    },
    {
      "cell_type": "code",
      "metadata": {
        "colab": {
          "base_uri": "https://localhost:8080/",
          "height": 386
        },
        "id": "nVuKkmMMh2hH",
        "outputId": "3928b139-8337-4e91-af17-77308ccacd75"
      },
      "source": [
        "plt.figure(figsize=(24,6))\n",
        "plot1 = sn.countplot( x = 'release_year' , data = df_netflix[df_netflix['type']=='Movie'])\n",
        "plot1.set_xticklabels(plot1.get_xticklabels(), rotation = 45, ha = 'right')\n",
        "plot1.set(ylim=(10, 800))\n",
        "plt.tight_layout()"
      ],
      "execution_count": null,
      "outputs": [
        {
          "output_type": "display_data",
          "data": {
            "image/png": "[encoded data removed]",
            "text/plain": [
              "<Figure size 1728x432 with 1 Axes>"
            ]
          },
          "metadata": {
            "tags": [],
            "needs_background": "light"
          }
        }
      ]
    },
    {
      "cell_type": "markdown",
      "metadata": {
        "id": "4TWMmjjRiejn"
      },
      "source": [
        "### TV Show releases over the years"
      ]
    },
    {
      "cell_type": "code",
      "metadata": {
        "colab": {
          "base_uri": "https://localhost:8080/",
          "height": 386
        },
        "id": "r6R1w_a0iMPK",
        "outputId": "71715322-3edd-4bab-b5e7-c03c8ddf129e"
      },
      "source": [
        "plt.figure(figsize=(24,6))\n",
        "plot2 = sn.countplot(x ='release_year' , data=df_netflix[df_netflix['type']=='TV Show'])\n",
        "plot2.set_xticklabels(plot2.get_xticklabels(), rotation = 45, ha = 'right')\n",
        "plot2.set(ylim=(10, 800))\n",
        "plt.tight_layout()"
      ],
      "execution_count": null,
      "outputs": [
        {
          "output_type": "display_data",
          "data": {
            "image/png": "[encoded data removed]",
            "text/plain": [
              "<Figure size 1728x432 with 1 Axes>"
            ]
          },
          "metadata": {
            "tags": [],
            "needs_background": "light"
          }
        }
      ]
    },
    {
      "cell_type": "markdown",
      "metadata": {
        "id": "52GpewedHIC2"
      },
      "source": [
        "### Movies vs Tv Show releases over the years"
      ]
    },
    {
      "cell_type": "code",
      "metadata": {
        "colab": {
          "base_uri": "https://localhost:8080/",
          "height": 427
        },
        "id": "IUFzJQcrdTn-",
        "outputId": "92695f91-2328-4f6a-ac06-c6e70ef4e305"
      },
      "source": [
        "df2 = df_netflix.groupby(['release_year', 'type'])['release_year'].count().unstack('type').fillna(0)\n",
        "df2[['Movie','TV Show']].plot(kind='bar', figsize=(25, 6), rot=45)\n",
        "plt.ylabel(\"Content count\", labelpad=14)\n",
        "plt.title(\"Content count by Release Year\", y=1.02);"
      ],
      "execution_count": null,
      "outputs": [
        {
          "output_type": "display_data",
          "data": {
            "image/png": "[encoded data removed]",
            "text/plain": [
              "<Figure size 1800x432 with 1 Axes>"
            ]
          },
          "metadata": {
            "tags": [],
            "needs_background": "light"
          }
        }
      ]
    },
    {
      "cell_type": "markdown",
      "metadata": {
        "id": "1ITSiY--iqTc"
      },
      "source": [
        "## Ερώτημα 3"
      ]
    },
    {
      "cell_type": "markdown",
      "metadata": {
        "id": "MRbIOeckHo9p"
      },
      "source": [
        "### Netflix + IMDB dataframe preparation"
      ]
    },
    {
      "cell_type": "code",
      "metadata": {
        "colab": {
          "base_uri": "https://localhost:8080/"
        },
        "id": "HML377b_iwC8",
        "outputId": "8a7a7c23-9dc9-4cab-ed44-237ef031a3b8"
      },
      "source": [
        "df_imbd_m.info()"
      ],
      "execution_count": null,
      "outputs": [
        {
          "output_type": "stream",
          "text": [
            "<class 'pandas.core.frame.DataFrame'>\n",
            "RangeIndex: 85855 entries, 0 to 85854\n",
            "Data columns (total 22 columns):\n",
            " #   Column                 Non-Null Count  Dtype  \n",
            "---  ------                 --------------  -----  \n",
            " 0   imdb_title_id          85855 non-null  object \n",
            " 1   title                  85855 non-null  object \n",
            " 2   original_title         85855 non-null  object \n",
            " 3   year                   85855 non-null  object \n",
            " 4   date_published         85855 non-null  object \n",
            " 5   genre                  85855 non-null  object \n",
            " 6   duration               85855 non-null  int64  \n",
            " 7   country                85855 non-null  object \n",
            " 8   language               85022 non-null  object \n",
            " 9   director               85768 non-null  object \n",
            " 10  writer                 84283 non-null  object \n",
            " 11  production_company     81400 non-null  object \n",
            " 12  actors                 85786 non-null  object \n",
            " 13  description            83740 non-null  object \n",
            " 14  avg_vote               85855 non-null  float64\n",
            " 15  votes                  85855 non-null  int64  \n",
            " 16  budget                 23710 non-null  object \n",
            " 17  usa_gross_income       15326 non-null  object \n",
            " 18  worlwide_gross_income  31016 non-null  object \n",
            " 19  metascore              13305 non-null  float64\n",
            " 20  reviews_from_users     78258 non-null  float64\n",
            " 21  reviews_from_critics   74058 non-null  float64\n",
            "dtypes: float64(4), int64(2), object(16)\n",
            "memory usage: 14.4+ MB\n"
          ],
          "name": "stdout"
        }
      ]
    },
    {
      "cell_type": "code",
      "metadata": {
        "colab": {
          "base_uri": "https://localhost:8080/",
          "height": 1000
        },
        "id": "TNSP3ThPi8dJ",
        "outputId": "ebc37f74-7f78-4ad4-c504-2a2cfe733e60"
      },
      "source": [
        "df_imbd_m.fillna('Unknown', inplace = True)\n",
        "df_imbd_m.info()\n",
        "df_imbd_m.head()"
      ],
      "execution_count": null,
      "outputs": [
        {
          "output_type": "stream",
          "text": [
            "<class 'pandas.core.frame.DataFrame'>\n",
            "RangeIndex: 85855 entries, 0 to 85854\n",
            "Data columns (total 22 columns):\n",
            " #   Column                 Non-Null Count  Dtype  \n",
            "---  ------                 --------------  -----  \n",
            " 0   imdb_title_id          85855 non-null  object \n",
            " 1   title                  85855 non-null  object \n",
            " 2   original_title         85855 non-null  object \n",
            " 3   year                   85855 non-null  object \n",
            " 4   date_published         85855 non-null  object \n",
            " 5   genre                  85855 non-null  object \n",
            " 6   duration               85855 non-null  int64  \n",
            " 7   country                85855 non-null  object \n",
            " 8   language               85855 non-null  object \n",
            " 9   director               85855 non-null  object \n",
            " 10  writer                 85855 non-null  object \n",
            " 11  production_company     85855 non-null  object \n",
            " 12  actors                 85855 non-null  object \n",
            " 13  description            85855 non-null  object \n",
            " 14  avg_vote               85855 non-null  float64\n",
            " 15  votes                  85855 non-null  int64  \n",
            " 16  budget                 85855 non-null  object \n",
            " 17  usa_gross_income       85855 non-null  object \n",
            " 18  worlwide_gross_income  85855 non-null  object \n",
            " 19  metascore              85855 non-null  object \n",
            " 20  reviews_from_users     85855 non-null  object \n",
            " 21  reviews_from_critics   85855 non-null  object \n",
            "dtypes: float64(1), int64(2), object(19)\n",
            "memory usage: 14.4+ MB\n"
          ],
          "name": "stdout"
        },
        {
          "output_type": "execute_result",
          "data": {
            "text/html": [
              "<div>\n",
              "<style scoped>\n",
              "    .dataframe tbody tr th:only-of-type {\n",
              "        vertical-align: middle;\n",
              "    }\n",
              "\n",
              "    .dataframe tbody tr th {\n",
              "        vertical-align: top;\n",
              "    }\n",
              "\n",
              "    .dataframe thead th {\n",
              "        text-align: right;\n",
              "    }\n",
              "</style>\n",
              "<table border=\"1\" class=\"dataframe\">\n",
              "  <thead>\n",
              "    <tr style=\"text-align: right;\">\n",
              "      <th></th>\n",
              "      <th>imdb_title_id</th>\n",
              "      <th>title</th>\n",
              "      <th>original_title</th>\n",
              "      <th>year</th>\n",
              "      <th>date_published</th>\n",
              "      <th>genre</th>\n",
              "      <th>duration</th>\n",
              "      <th>country</th>\n",
              "      <th>language</th>\n",
              "      <th>director</th>\n",
              "      <th>writer</th>\n",
              "      <th>production_company</th>\n",
              "      <th>actors</th>\n",
              "      <th>description</th>\n",
              "      <th>avg_vote</th>\n",
              "      <th>votes</th>\n",
              "      <th>budget</th>\n",
              "      <th>usa_gross_income</th>\n",
              "      <th>worlwide_gross_income</th>\n",
              "      <th>metascore</th>\n",
              "      <th>reviews_from_users</th>\n",
              "      <th>reviews_from_critics</th>\n",
              "    </tr>\n",
              "  </thead>\n",
              "  <tbody>\n",
              "    <tr>\n",
              "      <th>0</th>\n",
              "      <td>tt0000009</td>\n",
              "      <td>Miss Jerry</td>\n",
              "      <td>Miss Jerry</td>\n",
              "      <td>1894</td>\n",
              "      <td>1894-10-09</td>\n",
              "      <td>Romance</td>\n",
              "      <td>45</td>\n",
              "      <td>USA</td>\n",
              "      <td>None</td>\n",
              "      <td>Alexander Black</td>\n",
              "      <td>Alexander Black</td>\n",
              "      <td>Alexander Black Photoplays</td>\n",
              "      <td>Blanche Bayliss, William Courtenay, Chauncey D...</td>\n",
              "      <td>The adventures of a female reporter in the 1890s.</td>\n",
              "      <td>5.9</td>\n",
              "      <td>154</td>\n",
              "      <td>Unknown</td>\n",
              "      <td>Unknown</td>\n",
              "      <td>Unknown</td>\n",
              "      <td>Unknown</td>\n",
              "      <td>1</td>\n",
              "      <td>2</td>\n",
              "    </tr>\n",
              "    <tr>\n",
              "      <th>1</th>\n",
              "      <td>tt0000574</td>\n",
              "      <td>The Story of the Kelly Gang</td>\n",
              "      <td>The Story of the Kelly Gang</td>\n",
              "      <td>1906</td>\n",
              "      <td>1906-12-26</td>\n",
              "      <td>Biography, Crime, Drama</td>\n",
              "      <td>70</td>\n",
              "      <td>Australia</td>\n",
              "      <td>None</td>\n",
              "      <td>Charles Tait</td>\n",
              "      <td>Charles Tait</td>\n",
              "      <td>J. and N. Tait</td>\n",
              "      <td>Elizabeth Tait, John Tait, Norman Campbell, Be...</td>\n",
              "      <td>True story of notorious Australian outlaw Ned ...</td>\n",
              "      <td>6.1</td>\n",
              "      <td>589</td>\n",
              "      <td>$ 2250</td>\n",
              "      <td>Unknown</td>\n",
              "      <td>Unknown</td>\n",
              "      <td>Unknown</td>\n",
              "      <td>7</td>\n",
              "      <td>7</td>\n",
              "    </tr>\n",
              "    <tr>\n",
              "      <th>2</th>\n",
              "      <td>tt0001892</td>\n",
              "      <td>Den sorte drøm</td>\n",
              "      <td>Den sorte drøm</td>\n",
              "      <td>1911</td>\n",
              "      <td>1911-08-19</td>\n",
              "      <td>Drama</td>\n",
              "      <td>53</td>\n",
              "      <td>Germany, Denmark</td>\n",
              "      <td>Unknown</td>\n",
              "      <td>Urban Gad</td>\n",
              "      <td>Urban Gad, Gebhard Schätzler-Perasini</td>\n",
              "      <td>Fotorama</td>\n",
              "      <td>Asta Nielsen, Valdemar Psilander, Gunnar Helse...</td>\n",
              "      <td>Two men of high rank are both wooing the beaut...</td>\n",
              "      <td>5.8</td>\n",
              "      <td>188</td>\n",
              "      <td>Unknown</td>\n",
              "      <td>Unknown</td>\n",
              "      <td>Unknown</td>\n",
              "      <td>Unknown</td>\n",
              "      <td>5</td>\n",
              "      <td>2</td>\n",
              "    </tr>\n",
              "    <tr>\n",
              "      <th>3</th>\n",
              "      <td>tt0002101</td>\n",
              "      <td>Cleopatra</td>\n",
              "      <td>Cleopatra</td>\n",
              "      <td>1912</td>\n",
              "      <td>1912-11-13</td>\n",
              "      <td>Drama, History</td>\n",
              "      <td>100</td>\n",
              "      <td>USA</td>\n",
              "      <td>English</td>\n",
              "      <td>Charles L. Gaskill</td>\n",
              "      <td>Victorien Sardou</td>\n",
              "      <td>Helen Gardner Picture Players</td>\n",
              "      <td>Helen Gardner, Pearl Sindelar, Miss Fielding, ...</td>\n",
              "      <td>The fabled queen of Egypt's affair with Roman ...</td>\n",
              "      <td>5.2</td>\n",
              "      <td>446</td>\n",
              "      <td>$ 45000</td>\n",
              "      <td>Unknown</td>\n",
              "      <td>Unknown</td>\n",
              "      <td>Unknown</td>\n",
              "      <td>25</td>\n",
              "      <td>3</td>\n",
              "    </tr>\n",
              "    <tr>\n",
              "      <th>4</th>\n",
              "      <td>tt0002130</td>\n",
              "      <td>L'Inferno</td>\n",
              "      <td>L'Inferno</td>\n",
              "      <td>1911</td>\n",
              "      <td>1911-03-06</td>\n",
              "      <td>Adventure, Drama, Fantasy</td>\n",
              "      <td>68</td>\n",
              "      <td>Italy</td>\n",
              "      <td>Italian</td>\n",
              "      <td>Francesco Bertolini, Adolfo Padovan</td>\n",
              "      <td>Dante Alighieri</td>\n",
              "      <td>Milano Film</td>\n",
              "      <td>Salvatore Papa, Arturo Pirovano, Giuseppe de L...</td>\n",
              "      <td>Loosely adapted from Dante's Divine Comedy and...</td>\n",
              "      <td>7.0</td>\n",
              "      <td>2237</td>\n",
              "      <td>Unknown</td>\n",
              "      <td>Unknown</td>\n",
              "      <td>Unknown</td>\n",
              "      <td>Unknown</td>\n",
              "      <td>31</td>\n",
              "      <td>14</td>\n",
              "    </tr>\n",
              "  </tbody>\n",
              "</table>\n",
              "</div>"
            ],
            "text/plain": [
              "  imdb_title_id  ... reviews_from_critics\n",
              "0     tt0000009  ...                    2\n",
              "1     tt0000574  ...                    7\n",
              "2     tt0001892  ...                    2\n",
              "3     tt0002101  ...                    3\n",
              "4     tt0002130  ...                   14\n",
              "\n",
              "[5 rows x 22 columns]"
            ]
          },
          "metadata": {
            "tags": []
          },
          "execution_count": 14
        }
      ]
    },
    {
      "cell_type": "code",
      "metadata": {
        "colab": {
          "base_uri": "https://localhost:8080/"
        },
        "id": "boq1Rtz4jFbk",
        "outputId": "e16d0075-350f-4259-8f01-3eb4e234aaea"
      },
      "source": [
        "df_imdb_exploded = df_imbd_m.assign(country=df_imbd_m['country'].str.split(', ')).explode('country')\n",
        "df_imdb_exploded = df_imdb_exploded.reset_index(drop=True)\n",
        "df_imdb_exploded = df_imdb_exploded.replace({',':''}, regex=True)\n",
        "imdb_count = df_imdb_exploded['country'].value_counts()\n",
        "imdb_count.head()"
      ],
      "execution_count": null,
      "outputs": [
        {
          "output_type": "execute_result",
          "data": {
            "text/plain": [
              "USA       34325\n",
              "France     8311\n",
              "UK         7490\n",
              "India      6373\n",
              "Italy      5056\n",
              "Name: country, dtype: int64"
            ]
          },
          "metadata": {
            "tags": []
          },
          "execution_count": 15
        }
      ]
    },
    {
      "cell_type": "code",
      "metadata": {
        "colab": {
          "base_uri": "https://localhost:8080/"
        },
        "id": "-ET7gsThjJsC",
        "outputId": "28f400cc-261f-44ed-cbce-a8ae81a9aba5"
      },
      "source": [
        "df_netflix_exploded = df_netflix.assign(country=df_netflix['country'].str.split(', ')).explode('country')\n",
        "df_netflix_exploded = df_netflix_exploded.reset_index(drop=True)\n",
        "df_netflix_exploded = df_netflix_exploded.replace({',':''}, regex=True)\n",
        "df_netflix_exploded = df_netflix_exploded.replace(to_replace='United States', value='USA')\n",
        "df_netflix_exploded = df_netflix_exploded.replace(to_replace='United Kingdom', value='UK')\n",
        "netflix_count = df_netflix_exploded['country'].value_counts()\n",
        "netflix_count.head()"
      ],
      "execution_count": null,
      "outputs": [
        {
          "output_type": "execute_result",
          "data": {
            "text/plain": [
              "USA        3297\n",
              "India       990\n",
              "UK          723\n",
              "Unknown     507\n",
              "Canada      412\n",
              "Name: country, dtype: int64"
            ]
          },
          "metadata": {
            "tags": []
          },
          "execution_count": 16
        }
      ]
    },
    {
      "cell_type": "markdown",
      "metadata": {
        "id": "jUdi9darH_8d"
      },
      "source": [
        "### Content by country pie chart"
      ]
    },
    {
      "cell_type": "code",
      "metadata": {
        "colab": {
          "base_uri": "https://localhost:8080/",
          "height": 575
        },
        "id": "A54JJGoUjQrB",
        "outputId": "d0cbd8f4-dc98-47d7-c1e1-1c9beca65595"
      },
      "source": [
        "def my_autopct(pct):\n",
        "    return ('%.1f' % pct) if pct > 2 else ''\n",
        "\n",
        "total_count = imdb_count.add(netflix_count, fill_value=0)\n",
        "total_count = total_count.sort_values(ascending=False)\n",
        "total_count = total_count.to_frame()\n",
        "labels = total_count.index.tolist()\n",
        "less_labels = []\n",
        "for i in range(len(labels)):\n",
        "    if i < 9:\n",
        "        less_labels.append(labels[i])\n",
        "    else:\n",
        "        less_labels.append('')\n",
        "plot = total_count.plot.pie(y='country', autopct=my_autopct, labels=less_labels, figsize=(10,10))\n",
        "plot.get_legend().remove()\n",
        "plt.title(\"Content proportion by Country\", y=0.95);"
      ],
      "execution_count": null,
      "outputs": [
        {
          "output_type": "display_data",
          "data": {
            "image/png": "[encoded data removed]",
            "text/plain": [
              "<Figure size 720x720 with 1 Axes>"
            ]
          },
          "metadata": {
            "tags": []
          }
        }
      ]
    },
    {
      "cell_type": "markdown",
      "metadata": {
        "id": "JKo1X3JiIOGZ"
      },
      "source": [
        "### Top 20 countries by content amount"
      ]
    },
    {
      "cell_type": "code",
      "metadata": {
        "colab": {
          "base_uri": "https://localhost:8080/",
          "height": 421
        },
        "id": "s2qCrp1NdUVq",
        "outputId": "2213dcb1-ebf9-4428-b925-6f037c4300db"
      },
      "source": [
        "total_count[:20].plot(kind='bar', figsize=(20, 6), rot=0)\n",
        "plt.xlabel(\"Country\", labelpad=14)\n",
        "plt.ylabel(\"Amount of content\", labelpad=14)\n",
        "plt.title(\"Top 20 countries by content amount\", y=1.02);"
      ],
      "execution_count": null,
      "outputs": [
        {
          "output_type": "display_data",
          "data": {
            "image/png": "[encoded data removed]",
            "text/plain": [
              "<Figure size 1440x432 with 1 Axes>"
            ]
          },
          "metadata": {
            "tags": [],
            "needs_background": "light"
          }
        }
      ]
    },
    {
      "cell_type": "markdown",
      "metadata": {
        "id": "VUMJgrcirhA5"
      },
      "source": [
        "## Ερώτημα 4"
      ]
    },
    {
      "cell_type": "code",
      "metadata": {
        "colab": {
          "base_uri": "https://localhost:8080/",
          "height": 419
        },
        "id": "xvpRwkmumEcL",
        "outputId": "f4e2699e-105e-469b-d385-40dcdfc90891"
      },
      "source": [
        "df_imdb_countries = df_imdb_exploded[['title', 'country']]\n",
        "df_imdb_countries = df_imdb_countries.drop_duplicates()\n",
        "df_imdb_countries = df_imdb_countries.reset_index(drop=True)\n",
        "df_imdb_countries['type'] = 'Movie'\n",
        "df_imdb_countries"
      ],
      "execution_count": null,
      "outputs": [
        {
          "output_type": "execute_result",
          "data": {
            "text/html": [
              "<div>\n",
              "<style scoped>\n",
              "    .dataframe tbody tr th:only-of-type {\n",
              "        vertical-align: middle;\n",
              "    }\n",
              "\n",
              "    .dataframe tbody tr th {\n",
              "        vertical-align: top;\n",
              "    }\n",
              "\n",
              "    .dataframe thead th {\n",
              "        text-align: right;\n",
              "    }\n",
              "</style>\n",
              "<table border=\"1\" class=\"dataframe\">\n",
              "  <thead>\n",
              "    <tr style=\"text-align: right;\">\n",
              "      <th></th>\n",
              "      <th>title</th>\n",
              "      <th>country</th>\n",
              "      <th>type</th>\n",
              "    </tr>\n",
              "  </thead>\n",
              "  <tbody>\n",
              "    <tr>\n",
              "      <th>0</th>\n",
              "      <td>Miss Jerry</td>\n",
              "      <td>USA</td>\n",
              "      <td>Movie</td>\n",
              "    </tr>\n",
              "    <tr>\n",
              "      <th>1</th>\n",
              "      <td>The Story of the Kelly Gang</td>\n",
              "      <td>Australia</td>\n",
              "      <td>Movie</td>\n",
              "    </tr>\n",
              "    <tr>\n",
              "      <th>2</th>\n",
              "      <td>Den sorte drøm</td>\n",
              "      <td>Germany</td>\n",
              "      <td>Movie</td>\n",
              "    </tr>\n",
              "    <tr>\n",
              "      <th>3</th>\n",
              "      <td>Den sorte drøm</td>\n",
              "      <td>Denmark</td>\n",
              "      <td>Movie</td>\n",
              "    </tr>\n",
              "    <tr>\n",
              "      <th>4</th>\n",
              "      <td>Cleopatra</td>\n",
              "      <td>USA</td>\n",
              "      <td>Movie</td>\n",
              "    </tr>\n",
              "    <tr>\n",
              "      <th>...</th>\n",
              "      <td>...</td>\n",
              "      <td>...</td>\n",
              "      <td>...</td>\n",
              "    </tr>\n",
              "    <tr>\n",
              "      <th>106996</th>\n",
              "      <td>Le lion</td>\n",
              "      <td>Belgium</td>\n",
              "      <td>Movie</td>\n",
              "    </tr>\n",
              "    <tr>\n",
              "      <th>106997</th>\n",
              "      <td>De Beentjes van Sint-Hildegard</td>\n",
              "      <td>Netherlands</td>\n",
              "      <td>Movie</td>\n",
              "    </tr>\n",
              "    <tr>\n",
              "      <th>106998</th>\n",
              "      <td>Padmavyuhathile Abhimanyu</td>\n",
              "      <td>India</td>\n",
              "      <td>Movie</td>\n",
              "    </tr>\n",
              "    <tr>\n",
              "      <th>106999</th>\n",
              "      <td>Sokagin Çocuklari</td>\n",
              "      <td>Turkey</td>\n",
              "      <td>Movie</td>\n",
              "    </tr>\n",
              "    <tr>\n",
              "      <th>107000</th>\n",
              "      <td>La vida sense la Sara Amat</td>\n",
              "      <td>Spain</td>\n",
              "      <td>Movie</td>\n",
              "    </tr>\n",
              "  </tbody>\n",
              "</table>\n",
              "<p>107001 rows × 3 columns</p>\n",
              "</div>"
            ],
            "text/plain": [
              "                                 title      country   type\n",
              "0                           Miss Jerry          USA  Movie\n",
              "1          The Story of the Kelly Gang    Australia  Movie\n",
              "2                       Den sorte drøm      Germany  Movie\n",
              "3                       Den sorte drøm      Denmark  Movie\n",
              "4                            Cleopatra          USA  Movie\n",
              "...                                ...          ...    ...\n",
              "106996                         Le lion      Belgium  Movie\n",
              "106997  De Beentjes van Sint-Hildegard  Netherlands  Movie\n",
              "106998       Padmavyuhathile Abhimanyu        India  Movie\n",
              "106999               Sokagin Çocuklari       Turkey  Movie\n",
              "107000      La vida sense la Sara Amat        Spain  Movie\n",
              "\n",
              "[107001 rows x 3 columns]"
            ]
          },
          "metadata": {
            "tags": []
          },
          "execution_count": 19
        }
      ]
    },
    {
      "cell_type": "code",
      "metadata": {
        "colab": {
          "base_uri": "https://localhost:8080/",
          "height": 419
        },
        "id": "kY6Xgcr4pKJL",
        "outputId": "6a424b72-5c61-4d9d-97a0-dba905a1de50"
      },
      "source": [
        "df_netflix_countries = df_netflix_exploded[['title', 'country', 'type']]\n",
        "df_netflix_countries = df_netflix_countries.drop_duplicates()\n",
        "df_netflix_countries = df_netflix_countries.reset_index(drop=True)\n",
        "df_netflix_countries"
      ],
      "execution_count": null,
      "outputs": [
        {
          "output_type": "execute_result",
          "data": {
            "text/html": [
              "<div>\n",
              "<style scoped>\n",
              "    .dataframe tbody tr th:only-of-type {\n",
              "        vertical-align: middle;\n",
              "    }\n",
              "\n",
              "    .dataframe tbody tr th {\n",
              "        vertical-align: top;\n",
              "    }\n",
              "\n",
              "    .dataframe thead th {\n",
              "        text-align: right;\n",
              "    }\n",
              "</style>\n",
              "<table border=\"1\" class=\"dataframe\">\n",
              "  <thead>\n",
              "    <tr style=\"text-align: right;\">\n",
              "      <th></th>\n",
              "      <th>title</th>\n",
              "      <th>country</th>\n",
              "      <th>type</th>\n",
              "    </tr>\n",
              "  </thead>\n",
              "  <tbody>\n",
              "    <tr>\n",
              "      <th>0</th>\n",
              "      <td>3%</td>\n",
              "      <td>Brazil</td>\n",
              "      <td>TV Show</td>\n",
              "    </tr>\n",
              "    <tr>\n",
              "      <th>1</th>\n",
              "      <td>7:19</td>\n",
              "      <td>Mexico</td>\n",
              "      <td>Movie</td>\n",
              "    </tr>\n",
              "    <tr>\n",
              "      <th>2</th>\n",
              "      <td>23:59</td>\n",
              "      <td>Singapore</td>\n",
              "      <td>Movie</td>\n",
              "    </tr>\n",
              "    <tr>\n",
              "      <th>3</th>\n",
              "      <td>9</td>\n",
              "      <td>USA</td>\n",
              "      <td>Movie</td>\n",
              "    </tr>\n",
              "    <tr>\n",
              "      <th>4</th>\n",
              "      <td>21</td>\n",
              "      <td>USA</td>\n",
              "      <td>Movie</td>\n",
              "    </tr>\n",
              "    <tr>\n",
              "      <th>...</th>\n",
              "      <td>...</td>\n",
              "      <td>...</td>\n",
              "      <td>...</td>\n",
              "    </tr>\n",
              "    <tr>\n",
              "      <th>9565</th>\n",
              "      <td>Zulu Man in Japan</td>\n",
              "      <td>Unknown</td>\n",
              "      <td>Movie</td>\n",
              "    </tr>\n",
              "    <tr>\n",
              "      <th>9566</th>\n",
              "      <td>Zumbo's Just Desserts</td>\n",
              "      <td>Australia</td>\n",
              "      <td>TV Show</td>\n",
              "    </tr>\n",
              "    <tr>\n",
              "      <th>9567</th>\n",
              "      <td>ZZ TOP: THAT LITTLE OL' BAND FROM TEXAS</td>\n",
              "      <td>UK</td>\n",
              "      <td>Movie</td>\n",
              "    </tr>\n",
              "    <tr>\n",
              "      <th>9568</th>\n",
              "      <td>ZZ TOP: THAT LITTLE OL' BAND FROM TEXAS</td>\n",
              "      <td>Canada</td>\n",
              "      <td>Movie</td>\n",
              "    </tr>\n",
              "    <tr>\n",
              "      <th>9569</th>\n",
              "      <td>ZZ TOP: THAT LITTLE OL' BAND FROM TEXAS</td>\n",
              "      <td>USA</td>\n",
              "      <td>Movie</td>\n",
              "    </tr>\n",
              "  </tbody>\n",
              "</table>\n",
              "<p>9570 rows × 3 columns</p>\n",
              "</div>"
            ],
            "text/plain": [
              "                                        title    country     type\n",
              "0                                          3%     Brazil  TV Show\n",
              "1                                        7:19     Mexico    Movie\n",
              "2                                       23:59  Singapore    Movie\n",
              "3                                           9        USA    Movie\n",
              "4                                          21        USA    Movie\n",
              "...                                       ...        ...      ...\n",
              "9565                        Zulu Man in Japan    Unknown    Movie\n",
              "9566                    Zumbo's Just Desserts  Australia  TV Show\n",
              "9567  ZZ TOP: THAT LITTLE OL' BAND FROM TEXAS         UK    Movie\n",
              "9568  ZZ TOP: THAT LITTLE OL' BAND FROM TEXAS     Canada    Movie\n",
              "9569  ZZ TOP: THAT LITTLE OL' BAND FROM TEXAS        USA    Movie\n",
              "\n",
              "[9570 rows x 3 columns]"
            ]
          },
          "metadata": {
            "tags": []
          },
          "execution_count": 20
        }
      ]
    },
    {
      "cell_type": "code",
      "metadata": {
        "colab": {
          "base_uri": "https://localhost:8080/",
          "height": 419
        },
        "id": "vM9vmzCYVL0w",
        "outputId": "c4404280-d3bb-4474-f260-55e8cbd2f33a"
      },
      "source": [
        "df_countries = pd.concat([df_imdb_countries, df_netflix_countries], axis=0) # Stack the DataFrames on top of each other\n",
        "df_countries = df_countries.reset_index(drop=True)\n",
        "df_countries = df_countries.drop_duplicates()\n",
        "df_countries = df_countries.reset_index(drop=True)\n",
        "df_countries"
      ],
      "execution_count": null,
      "outputs": [
        {
          "output_type": "execute_result",
          "data": {
            "text/html": [
              "<div>\n",
              "<style scoped>\n",
              "    .dataframe tbody tr th:only-of-type {\n",
              "        vertical-align: middle;\n",
              "    }\n",
              "\n",
              "    .dataframe tbody tr th {\n",
              "        vertical-align: top;\n",
              "    }\n",
              "\n",
              "    .dataframe thead th {\n",
              "        text-align: right;\n",
              "    }\n",
              "</style>\n",
              "<table border=\"1\" class=\"dataframe\">\n",
              "  <thead>\n",
              "    <tr style=\"text-align: right;\">\n",
              "      <th></th>\n",
              "      <th>title</th>\n",
              "      <th>country</th>\n",
              "      <th>type</th>\n",
              "    </tr>\n",
              "  </thead>\n",
              "  <tbody>\n",
              "    <tr>\n",
              "      <th>0</th>\n",
              "      <td>Miss Jerry</td>\n",
              "      <td>USA</td>\n",
              "      <td>Movie</td>\n",
              "    </tr>\n",
              "    <tr>\n",
              "      <th>1</th>\n",
              "      <td>The Story of the Kelly Gang</td>\n",
              "      <td>Australia</td>\n",
              "      <td>Movie</td>\n",
              "    </tr>\n",
              "    <tr>\n",
              "      <th>2</th>\n",
              "      <td>Den sorte drøm</td>\n",
              "      <td>Germany</td>\n",
              "      <td>Movie</td>\n",
              "    </tr>\n",
              "    <tr>\n",
              "      <th>3</th>\n",
              "      <td>Den sorte drøm</td>\n",
              "      <td>Denmark</td>\n",
              "      <td>Movie</td>\n",
              "    </tr>\n",
              "    <tr>\n",
              "      <th>4</th>\n",
              "      <td>Cleopatra</td>\n",
              "      <td>USA</td>\n",
              "      <td>Movie</td>\n",
              "    </tr>\n",
              "    <tr>\n",
              "      <th>...</th>\n",
              "      <td>...</td>\n",
              "      <td>...</td>\n",
              "      <td>...</td>\n",
              "    </tr>\n",
              "    <tr>\n",
              "      <th>114240</th>\n",
              "      <td>Zulu Man in Japan</td>\n",
              "      <td>Unknown</td>\n",
              "      <td>Movie</td>\n",
              "    </tr>\n",
              "    <tr>\n",
              "      <th>114241</th>\n",
              "      <td>Zumbo's Just Desserts</td>\n",
              "      <td>Australia</td>\n",
              "      <td>TV Show</td>\n",
              "    </tr>\n",
              "    <tr>\n",
              "      <th>114242</th>\n",
              "      <td>ZZ TOP: THAT LITTLE OL' BAND FROM TEXAS</td>\n",
              "      <td>UK</td>\n",
              "      <td>Movie</td>\n",
              "    </tr>\n",
              "    <tr>\n",
              "      <th>114243</th>\n",
              "      <td>ZZ TOP: THAT LITTLE OL' BAND FROM TEXAS</td>\n",
              "      <td>Canada</td>\n",
              "      <td>Movie</td>\n",
              "    </tr>\n",
              "    <tr>\n",
              "      <th>114244</th>\n",
              "      <td>ZZ TOP: THAT LITTLE OL' BAND FROM TEXAS</td>\n",
              "      <td>USA</td>\n",
              "      <td>Movie</td>\n",
              "    </tr>\n",
              "  </tbody>\n",
              "</table>\n",
              "<p>114245 rows × 3 columns</p>\n",
              "</div>"
            ],
            "text/plain": [
              "                                          title    country     type\n",
              "0                                    Miss Jerry        USA    Movie\n",
              "1                   The Story of the Kelly Gang  Australia    Movie\n",
              "2                                Den sorte drøm    Germany    Movie\n",
              "3                                Den sorte drøm    Denmark    Movie\n",
              "4                                     Cleopatra        USA    Movie\n",
              "...                                         ...        ...      ...\n",
              "114240                        Zulu Man in Japan    Unknown    Movie\n",
              "114241                    Zumbo's Just Desserts  Australia  TV Show\n",
              "114242  ZZ TOP: THAT LITTLE OL' BAND FROM TEXAS         UK    Movie\n",
              "114243  ZZ TOP: THAT LITTLE OL' BAND FROM TEXAS     Canada    Movie\n",
              "114244  ZZ TOP: THAT LITTLE OL' BAND FROM TEXAS        USA    Movie\n",
              "\n",
              "[114245 rows x 3 columns]"
            ]
          },
          "metadata": {
            "tags": []
          },
          "execution_count": 21
        }
      ]
    },
    {
      "cell_type": "code",
      "metadata": {
        "colab": {
          "base_uri": "https://localhost:8080/",
          "height": 419
        },
        "id": "9hiRMfbAWCtE",
        "outputId": "d523ea88-3a68-4776-e001-0dc3d3e4603c"
      },
      "source": [
        "df=df_countries\n",
        "movies_df = df[df[\"type\"] == 'Movie']\n",
        "movies_df\n"
      ],
      "execution_count": null,
      "outputs": [
        {
          "output_type": "execute_result",
          "data": {
            "text/html": [
              "<div>\n",
              "<style scoped>\n",
              "    .dataframe tbody tr th:only-of-type {\n",
              "        vertical-align: middle;\n",
              "    }\n",
              "\n",
              "    .dataframe tbody tr th {\n",
              "        vertical-align: top;\n",
              "    }\n",
              "\n",
              "    .dataframe thead th {\n",
              "        text-align: right;\n",
              "    }\n",
              "</style>\n",
              "<table border=\"1\" class=\"dataframe\">\n",
              "  <thead>\n",
              "    <tr style=\"text-align: right;\">\n",
              "      <th></th>\n",
              "      <th>title</th>\n",
              "      <th>country</th>\n",
              "      <th>type</th>\n",
              "    </tr>\n",
              "  </thead>\n",
              "  <tbody>\n",
              "    <tr>\n",
              "      <th>0</th>\n",
              "      <td>Miss Jerry</td>\n",
              "      <td>USA</td>\n",
              "      <td>Movie</td>\n",
              "    </tr>\n",
              "    <tr>\n",
              "      <th>1</th>\n",
              "      <td>The Story of the Kelly Gang</td>\n",
              "      <td>Australia</td>\n",
              "      <td>Movie</td>\n",
              "    </tr>\n",
              "    <tr>\n",
              "      <th>2</th>\n",
              "      <td>Den sorte drøm</td>\n",
              "      <td>Germany</td>\n",
              "      <td>Movie</td>\n",
              "    </tr>\n",
              "    <tr>\n",
              "      <th>3</th>\n",
              "      <td>Den sorte drøm</td>\n",
              "      <td>Denmark</td>\n",
              "      <td>Movie</td>\n",
              "    </tr>\n",
              "    <tr>\n",
              "      <th>4</th>\n",
              "      <td>Cleopatra</td>\n",
              "      <td>USA</td>\n",
              "      <td>Movie</td>\n",
              "    </tr>\n",
              "    <tr>\n",
              "      <th>...</th>\n",
              "      <td>...</td>\n",
              "      <td>...</td>\n",
              "      <td>...</td>\n",
              "    </tr>\n",
              "    <tr>\n",
              "      <th>114239</th>\n",
              "      <td>Zoo</td>\n",
              "      <td>India</td>\n",
              "      <td>Movie</td>\n",
              "    </tr>\n",
              "    <tr>\n",
              "      <th>114240</th>\n",
              "      <td>Zulu Man in Japan</td>\n",
              "      <td>Unknown</td>\n",
              "      <td>Movie</td>\n",
              "    </tr>\n",
              "    <tr>\n",
              "      <th>114242</th>\n",
              "      <td>ZZ TOP: THAT LITTLE OL' BAND FROM TEXAS</td>\n",
              "      <td>UK</td>\n",
              "      <td>Movie</td>\n",
              "    </tr>\n",
              "    <tr>\n",
              "      <th>114243</th>\n",
              "      <td>ZZ TOP: THAT LITTLE OL' BAND FROM TEXAS</td>\n",
              "      <td>Canada</td>\n",
              "      <td>Movie</td>\n",
              "    </tr>\n",
              "    <tr>\n",
              "      <th>114244</th>\n",
              "      <td>ZZ TOP: THAT LITTLE OL' BAND FROM TEXAS</td>\n",
              "      <td>USA</td>\n",
              "      <td>Movie</td>\n",
              "    </tr>\n",
              "  </tbody>\n",
              "</table>\n",
              "<p>111514 rows × 3 columns</p>\n",
              "</div>"
            ],
            "text/plain": [
              "                                          title    country   type\n",
              "0                                    Miss Jerry        USA  Movie\n",
              "1                   The Story of the Kelly Gang  Australia  Movie\n",
              "2                                Den sorte drøm    Germany  Movie\n",
              "3                                Den sorte drøm    Denmark  Movie\n",
              "4                                     Cleopatra        USA  Movie\n",
              "...                                         ...        ...    ...\n",
              "114239                                      Zoo      India  Movie\n",
              "114240                        Zulu Man in Japan    Unknown  Movie\n",
              "114242  ZZ TOP: THAT LITTLE OL' BAND FROM TEXAS         UK  Movie\n",
              "114243  ZZ TOP: THAT LITTLE OL' BAND FROM TEXAS     Canada  Movie\n",
              "114244  ZZ TOP: THAT LITTLE OL' BAND FROM TEXAS        USA  Movie\n",
              "\n",
              "[111514 rows x 3 columns]"
            ]
          },
          "metadata": {
            "tags": []
          },
          "execution_count": 22
        }
      ]
    },
    {
      "cell_type": "code",
      "metadata": {
        "colab": {
          "base_uri": "https://localhost:8080/",
          "height": 419
        },
        "id": "EeMcIwB6W841",
        "outputId": "1e4ea8bf-c1f0-4dc2-ac2d-3a8d8e6072a2"
      },
      "source": [
        "shows_df = df[df[\"type\"] == 'TV Show']\n",
        "shows_df"
      ],
      "execution_count": null,
      "outputs": [
        {
          "output_type": "execute_result",
          "data": {
            "text/html": [
              "<div>\n",
              "<style scoped>\n",
              "    .dataframe tbody tr th:only-of-type {\n",
              "        vertical-align: middle;\n",
              "    }\n",
              "\n",
              "    .dataframe tbody tr th {\n",
              "        vertical-align: top;\n",
              "    }\n",
              "\n",
              "    .dataframe thead th {\n",
              "        text-align: right;\n",
              "    }\n",
              "</style>\n",
              "<table border=\"1\" class=\"dataframe\">\n",
              "  <thead>\n",
              "    <tr style=\"text-align: right;\">\n",
              "      <th></th>\n",
              "      <th>title</th>\n",
              "      <th>country</th>\n",
              "      <th>type</th>\n",
              "    </tr>\n",
              "  </thead>\n",
              "  <tbody>\n",
              "    <tr>\n",
              "      <th>107001</th>\n",
              "      <td>3%</td>\n",
              "      <td>Brazil</td>\n",
              "      <td>TV Show</td>\n",
              "    </tr>\n",
              "    <tr>\n",
              "      <th>107002</th>\n",
              "      <td>46</td>\n",
              "      <td>Turkey</td>\n",
              "      <td>TV Show</td>\n",
              "    </tr>\n",
              "    <tr>\n",
              "      <th>107004</th>\n",
              "      <td>1983</td>\n",
              "      <td>Poland</td>\n",
              "      <td>TV Show</td>\n",
              "    </tr>\n",
              "    <tr>\n",
              "      <th>107005</th>\n",
              "      <td>1983</td>\n",
              "      <td>USA</td>\n",
              "      <td>TV Show</td>\n",
              "    </tr>\n",
              "    <tr>\n",
              "      <th>107006</th>\n",
              "      <td>1994</td>\n",
              "      <td>Mexico</td>\n",
              "      <td>TV Show</td>\n",
              "    </tr>\n",
              "    <tr>\n",
              "      <th>...</th>\n",
              "      <td>...</td>\n",
              "      <td>...</td>\n",
              "      <td>...</td>\n",
              "    </tr>\n",
              "    <tr>\n",
              "      <th>114229</th>\n",
              "      <td>Zindagi Gulzar Hai</td>\n",
              "      <td>Pakistan</td>\n",
              "      <td>TV Show</td>\n",
              "    </tr>\n",
              "    <tr>\n",
              "      <th>114234</th>\n",
              "      <td>Zoids Wild</td>\n",
              "      <td>Japan</td>\n",
              "      <td>TV Show</td>\n",
              "    </tr>\n",
              "    <tr>\n",
              "      <th>114236</th>\n",
              "      <td>Zombie Dumb</td>\n",
              "      <td>Unknown</td>\n",
              "      <td>TV Show</td>\n",
              "    </tr>\n",
              "    <tr>\n",
              "      <th>114238</th>\n",
              "      <td>Zona Rosa</td>\n",
              "      <td>Mexico</td>\n",
              "      <td>TV Show</td>\n",
              "    </tr>\n",
              "    <tr>\n",
              "      <th>114241</th>\n",
              "      <td>Zumbo's Just Desserts</td>\n",
              "      <td>Australia</td>\n",
              "      <td>TV Show</td>\n",
              "    </tr>\n",
              "  </tbody>\n",
              "</table>\n",
              "<p>2731 rows × 3 columns</p>\n",
              "</div>"
            ],
            "text/plain": [
              "                        title    country     type\n",
              "107001                     3%     Brazil  TV Show\n",
              "107002                     46     Turkey  TV Show\n",
              "107004                   1983     Poland  TV Show\n",
              "107005                   1983        USA  TV Show\n",
              "107006                   1994     Mexico  TV Show\n",
              "...                       ...        ...      ...\n",
              "114229     Zindagi Gulzar Hai   Pakistan  TV Show\n",
              "114234             Zoids Wild      Japan  TV Show\n",
              "114236            Zombie Dumb    Unknown  TV Show\n",
              "114238              Zona Rosa     Mexico  TV Show\n",
              "114241  Zumbo's Just Desserts  Australia  TV Show\n",
              "\n",
              "[2731 rows x 3 columns]"
            ]
          },
          "metadata": {
            "tags": []
          },
          "execution_count": 23
        }
      ]
    },
    {
      "cell_type": "code",
      "metadata": {
        "colab": {
          "base_uri": "https://localhost:8080/",
          "height": 419
        },
        "id": "cHfxdKBy-Sl9",
        "outputId": "fc2f983e-85ff-4734-cf7e-3171ac235397"
      },
      "source": [
        "df_imdb_exploded['genre']=df_imdb_exploded['genre'].replace({'-TV':''}, regex=True)\n",
        "df_imdb_genres_exploded=df_imdb_exploded.assign(genre=df_imdb_exploded['genre'].str.split(' ')).explode('genre')\n",
        "df_imdb_genres_exploded=df_imdb_genres_exploded.reset_index(drop=True)\n",
        "df_imdb_genres_exploded=df_imdb_genres_exploded.drop_duplicates()\n",
        "df_imdb_genres_exploded=df_imdb_genres_exploded.reset_index(drop=True)\n",
        "# df_imdb_genres_exploded\n",
        "# countries_list=sorted(df_imdb_genres_exploded.tolist())\n",
        "# for country in countries_list:\n",
        "#   print(country)\n",
        "#   print\n",
        "\n",
        "df_im_genres=df_imdb_genres_exploded[['title', 'country', 'genre']]\n",
        "df_im_genres\n"
      ],
      "execution_count": null,
      "outputs": [
        {
          "output_type": "execute_result",
          "data": {
            "text/html": [
              "<div>\n",
              "<style scoped>\n",
              "    .dataframe tbody tr th:only-of-type {\n",
              "        vertical-align: middle;\n",
              "    }\n",
              "\n",
              "    .dataframe tbody tr th {\n",
              "        vertical-align: top;\n",
              "    }\n",
              "\n",
              "    .dataframe thead th {\n",
              "        text-align: right;\n",
              "    }\n",
              "</style>\n",
              "<table border=\"1\" class=\"dataframe\">\n",
              "  <thead>\n",
              "    <tr style=\"text-align: right;\">\n",
              "      <th></th>\n",
              "      <th>title</th>\n",
              "      <th>country</th>\n",
              "      <th>genre</th>\n",
              "    </tr>\n",
              "  </thead>\n",
              "  <tbody>\n",
              "    <tr>\n",
              "      <th>0</th>\n",
              "      <td>Miss Jerry</td>\n",
              "      <td>USA</td>\n",
              "      <td>Romance</td>\n",
              "    </tr>\n",
              "    <tr>\n",
              "      <th>1</th>\n",
              "      <td>The Story of the Kelly Gang</td>\n",
              "      <td>Australia</td>\n",
              "      <td>Biography</td>\n",
              "    </tr>\n",
              "    <tr>\n",
              "      <th>2</th>\n",
              "      <td>The Story of the Kelly Gang</td>\n",
              "      <td>Australia</td>\n",
              "      <td>Crime</td>\n",
              "    </tr>\n",
              "    <tr>\n",
              "      <th>3</th>\n",
              "      <td>The Story of the Kelly Gang</td>\n",
              "      <td>Australia</td>\n",
              "      <td>Drama</td>\n",
              "    </tr>\n",
              "    <tr>\n",
              "      <th>4</th>\n",
              "      <td>Den sorte drøm</td>\n",
              "      <td>Germany</td>\n",
              "      <td>Drama</td>\n",
              "    </tr>\n",
              "    <tr>\n",
              "      <th>...</th>\n",
              "      <td>...</td>\n",
              "      <td>...</td>\n",
              "      <td>...</td>\n",
              "    </tr>\n",
              "    <tr>\n",
              "      <th>225603</th>\n",
              "      <td>De Beentjes van Sint-Hildegard</td>\n",
              "      <td>Netherlands</td>\n",
              "      <td>Drama</td>\n",
              "    </tr>\n",
              "    <tr>\n",
              "      <th>225604</th>\n",
              "      <td>Padmavyuhathile Abhimanyu</td>\n",
              "      <td>India</td>\n",
              "      <td>Drama</td>\n",
              "    </tr>\n",
              "    <tr>\n",
              "      <th>225605</th>\n",
              "      <td>Sokagin Çocuklari</td>\n",
              "      <td>Turkey</td>\n",
              "      <td>Drama</td>\n",
              "    </tr>\n",
              "    <tr>\n",
              "      <th>225606</th>\n",
              "      <td>Sokagin Çocuklari</td>\n",
              "      <td>Turkey</td>\n",
              "      <td>Family</td>\n",
              "    </tr>\n",
              "    <tr>\n",
              "      <th>225607</th>\n",
              "      <td>La vida sense la Sara Amat</td>\n",
              "      <td>Spain</td>\n",
              "      <td>Drama</td>\n",
              "    </tr>\n",
              "  </tbody>\n",
              "</table>\n",
              "<p>225608 rows × 3 columns</p>\n",
              "</div>"
            ],
            "text/plain": [
              "                                 title      country      genre\n",
              "0                           Miss Jerry          USA    Romance\n",
              "1          The Story of the Kelly Gang    Australia  Biography\n",
              "2          The Story of the Kelly Gang    Australia      Crime\n",
              "3          The Story of the Kelly Gang    Australia      Drama\n",
              "4                       Den sorte drøm      Germany      Drama\n",
              "...                                ...          ...        ...\n",
              "225603  De Beentjes van Sint-Hildegard  Netherlands      Drama\n",
              "225604       Padmavyuhathile Abhimanyu        India      Drama\n",
              "225605               Sokagin Çocuklari       Turkey      Drama\n",
              "225606               Sokagin Çocuklari       Turkey     Family\n",
              "225607      La vida sense la Sara Amat        Spain      Drama\n",
              "\n",
              "[225608 rows x 3 columns]"
            ]
          },
          "metadata": {
            "tags": []
          },
          "execution_count": 24
        }
      ]
    },
    {
      "cell_type": "code",
      "metadata": {
        "colab": {
          "base_uri": "https://localhost:8080/",
          "height": 419
        },
        "id": "XcpEkU9jr7Au",
        "outputId": "649be8ad-0482-4186-bbb4-a81ef5c31f6c"
      },
      "source": [
        "df_netflix_exploded['listed_in'] = df_netflix_exploded['listed_in'].replace({' +':' '}, regex=True)\n",
        "\n",
        "df_netflix_exploded['listed_in'] = df_netflix_exploded['listed_in'].replace({'&':''}, regex=True)\n",
        "df_netflix_exploded['listed_in'] = df_netflix_exploded['listed_in'].replace({'TV':''}, regex=True)\n",
        "df_netflix_exploded['listed_in'] = df_netflix_exploded['listed_in'].replace({'Movies':''}, regex=True)\n",
        "df_netflix_exploded['listed_in'] = df_netflix_exploded['listed_in'].replace({'Shows':''}, regex=True)\n",
        "df_netflix_exploded['listed_in'] = df_netflix_exploded['listed_in'].replace({'Series':''}, regex=True)\n",
        "df_netflix_exploded['listed_in'] = df_netflix_exploded['listed_in'].replace({'Comedies':'Comedy'}, regex=True)\n",
        "df_netflix_exploded['listed_in'] = df_netflix_exploded['listed_in'].replace({'Thrillers':'Thriller'}, regex=True)\n",
        "df_netflix_exploded['listed_in'] = df_netflix_exploded['listed_in'].replace({'Anime':'Animation'})\n",
        "df_netflix_exploded['listed_in'] = df_netflix_exploded['listed_in'].replace({'Dramas':'Drama'}, regex=True)\n",
        "df_netflix_exploded['listed_in'] = df_netflix_exploded['listed_in'].replace({'Documentaries':'Documentary'}, regex=True)\n",
        "df_netflix_exploded['listed_in'] = df_netflix_exploded['listed_in'].replace({'Docuseries':'Documentary'}, regex=True)\n",
        "df_netflix_exploded['listed_in'] = df_netflix_exploded['listed_in'].replace({'Musicals':'Musical'}, regex=True)\n",
        "df_netflix_exploded['listed_in'] = df_netflix_exploded['listed_in'].replace({'Mysteries':'Mystery'}, regex=True)\n",
        "df_netflix_exploded['listed_in'] = df_netflix_exploded['listed_in'].replace({'Mysteries':'Mystery'}, regex=True)\n",
        "df_netflix_exploded['listed_in'] = df_netflix_exploded['listed_in'].replace({'Sports':'Sport'}, regex=True)\n",
        "df_netflix_exploded['listed_in'] = df_netflix_exploded['listed_in'].replace({'Romantic':'Romance'}, regex=True)\n",
        "\n",
        "df_netflix_genres_exploded=df_netflix_exploded.assign(listed_in=df_netflix_exploded['listed_in'].str.split(' ')).explode('listed_in')\n",
        "\n",
        "# df_netflix_genres_exploded=df_netflix_genres_exploded['listed_in']\n",
        "df_netflix_genres_exploded=df_netflix_genres_exploded.drop_duplicates()\n",
        "df_netflix_genres_exploded=df_netflix_genres_exploded.reset_index(drop=True)\n",
        "# countries_list=sorted(df_netflix_genres_exploded.tolist())\n",
        "# for country in countries_list:\n",
        "#   print(country)\n",
        "#   print\n",
        "\n",
        "df_netflix_genres_exploded.rename(columns={'listed_in': 'genre'}, inplace=True)\n",
        "df_net_genres=df_netflix_genres_exploded[['title', 'country', 'genre']]\n",
        "df_net_genres\n"
      ],
      "execution_count": null,
      "outputs": [
        {
          "output_type": "execute_result",
          "data": {
            "text/html": [
              "<div>\n",
              "<style scoped>\n",
              "    .dataframe tbody tr th:only-of-type {\n",
              "        vertical-align: middle;\n",
              "    }\n",
              "\n",
              "    .dataframe tbody tr th {\n",
              "        vertical-align: top;\n",
              "    }\n",
              "\n",
              "    .dataframe thead th {\n",
              "        text-align: right;\n",
              "    }\n",
              "</style>\n",
              "<table border=\"1\" class=\"dataframe\">\n",
              "  <thead>\n",
              "    <tr style=\"text-align: right;\">\n",
              "      <th></th>\n",
              "      <th>title</th>\n",
              "      <th>country</th>\n",
              "      <th>genre</th>\n",
              "    </tr>\n",
              "  </thead>\n",
              "  <tbody>\n",
              "    <tr>\n",
              "      <th>0</th>\n",
              "      <td>3%</td>\n",
              "      <td>Brazil</td>\n",
              "      <td>International</td>\n",
              "    </tr>\n",
              "    <tr>\n",
              "      <th>1</th>\n",
              "      <td>3%</td>\n",
              "      <td>Brazil</td>\n",
              "      <td></td>\n",
              "    </tr>\n",
              "    <tr>\n",
              "      <th>2</th>\n",
              "      <td>3%</td>\n",
              "      <td>Brazil</td>\n",
              "      <td>Drama</td>\n",
              "    </tr>\n",
              "    <tr>\n",
              "      <th>3</th>\n",
              "      <td>3%</td>\n",
              "      <td>Brazil</td>\n",
              "      <td>Sci-Fi</td>\n",
              "    </tr>\n",
              "    <tr>\n",
              "      <th>4</th>\n",
              "      <td>3%</td>\n",
              "      <td>Brazil</td>\n",
              "      <td>Fantasy</td>\n",
              "    </tr>\n",
              "    <tr>\n",
              "      <th>...</th>\n",
              "      <td>...</td>\n",
              "      <td>...</td>\n",
              "      <td>...</td>\n",
              "    </tr>\n",
              "    <tr>\n",
              "      <th>32500</th>\n",
              "      <td>ZZ TOP: THAT LITTLE OL' BAND FROM TEXAS</td>\n",
              "      <td>Canada</td>\n",
              "      <td>Musical</td>\n",
              "    </tr>\n",
              "    <tr>\n",
              "      <th>32501</th>\n",
              "      <td>ZZ TOP: THAT LITTLE OL' BAND FROM TEXAS</td>\n",
              "      <td>USA</td>\n",
              "      <td>Documentary</td>\n",
              "    </tr>\n",
              "    <tr>\n",
              "      <th>32502</th>\n",
              "      <td>ZZ TOP: THAT LITTLE OL' BAND FROM TEXAS</td>\n",
              "      <td>USA</td>\n",
              "      <td>Music</td>\n",
              "    </tr>\n",
              "    <tr>\n",
              "      <th>32503</th>\n",
              "      <td>ZZ TOP: THAT LITTLE OL' BAND FROM TEXAS</td>\n",
              "      <td>USA</td>\n",
              "      <td></td>\n",
              "    </tr>\n",
              "    <tr>\n",
              "      <th>32504</th>\n",
              "      <td>ZZ TOP: THAT LITTLE OL' BAND FROM TEXAS</td>\n",
              "      <td>USA</td>\n",
              "      <td>Musical</td>\n",
              "    </tr>\n",
              "  </tbody>\n",
              "</table>\n",
              "<p>32505 rows × 3 columns</p>\n",
              "</div>"
            ],
            "text/plain": [
              "                                         title country          genre\n",
              "0                                           3%  Brazil  International\n",
              "1                                           3%  Brazil               \n",
              "2                                           3%  Brazil          Drama\n",
              "3                                           3%  Brazil         Sci-Fi\n",
              "4                                           3%  Brazil        Fantasy\n",
              "...                                        ...     ...            ...\n",
              "32500  ZZ TOP: THAT LITTLE OL' BAND FROM TEXAS  Canada        Musical\n",
              "32501  ZZ TOP: THAT LITTLE OL' BAND FROM TEXAS     USA    Documentary\n",
              "32502  ZZ TOP: THAT LITTLE OL' BAND FROM TEXAS     USA          Music\n",
              "32503  ZZ TOP: THAT LITTLE OL' BAND FROM TEXAS     USA               \n",
              "32504  ZZ TOP: THAT LITTLE OL' BAND FROM TEXAS     USA        Musical\n",
              "\n",
              "[32505 rows x 3 columns]"
            ]
          },
          "metadata": {
            "tags": []
          },
          "execution_count": 25
        }
      ]
    },
    {
      "cell_type": "code",
      "metadata": {
        "colab": {
          "base_uri": "https://localhost:8080/",
          "height": 575
        },
        "id": "5sP_JYiFDh_3",
        "outputId": "cf1c5f5f-0eb9-4488-f064-754d19b782f4"
      },
      "source": [
        "df_genres = pd.concat([df_im_genres, df_net_genres], axis=0) # Stack the DataFrames on top of each other\n",
        "df_genres = df_genres.reset_index(drop=True)\n",
        "df_genres = df_genres.drop_duplicates()\n",
        "# drop rows with empty 'genre' cells creating by exploding the initial dataframe\n",
        "df_genres.replace('', np.nan, inplace=True) # replace empty cells with NaN\n",
        "df_genres.replace(' ', np.nan, inplace=True)\n",
        "df_genres.replace(' +', np.nan, inplace=True)\n",
        "df_genres.dropna(inplace=True) #drop NaN\n",
        "# end drop\n",
        "df_genres = df_genres.reset_index(drop=True)\n",
        "\n",
        "country = 'Brazil'  # We can change this value according to the country of interest\n",
        "df_country_genres = df_genres[df_genres['country']==country]\n",
        "\n",
        "def my_autopct(pct):\n",
        "    return ('%.1f' % pct) if pct > 2 else ''\n",
        "\n",
        "genres_count = df_country_genres['genre'].value_counts()\n",
        "genres_count = genres_count.to_frame()\n",
        "labels = genres_count.index.tolist()\n",
        "less_labels = []\n",
        "for i in range(len(labels)):\n",
        "    if i < 9:\n",
        "        less_labels.append(labels[i])\n",
        "    else:\n",
        "        less_labels.append('')\n",
        "plot = genres_count.plot.pie(y='genre', autopct=my_autopct, labels=less_labels, figsize=(10,10))\n",
        "plot.get_legend().remove()\n",
        "plt.title(\"Distribution of Country's content by genre\", y=0.95);"
      ],
      "execution_count": null,
      "outputs": [
        {
          "output_type": "display_data",
          "data": {
            "image/png": "[encoded data removed]",
            "text/plain": [
              "<Figure size 720x720 with 1 Axes>"
            ]
          },
          "metadata": {
            "tags": []
          }
        }
      ]
    },
    {
      "cell_type": "markdown",
      "metadata": {
        "id": "Rb4ifoaYM6rW"
      },
      "source": [
        "## Ερώτημα 5"
      ]
    },
    {
      "cell_type": "markdown",
      "metadata": {
        "id": "MDjP5CHaNEeZ"
      },
      "source": [
        "### Top movie actors by country"
      ]
    },
    {
      "cell_type": "markdown",
      "metadata": {
        "id": "lG1lghp-NNFQ"
      },
      "source": [
        "Αλλάξτε τις τιμές στις μεταβλητές **country** και **top** για αλλαγή της χώρας ή του αριθμού ηθοποιών αντίστοιχα."
      ]
    },
    {
      "cell_type": "code",
      "metadata": {
        "id": "1ARg76CmNK2q",
        "colab": {
          "base_uri": "https://localhost:8080/",
          "height": 279
        },
        "outputId": "daa37647-3dd9-4843-befa-3875375c1692"
      },
      "source": [
        "country = 'USA'  # You can change this value according to the country of interest\n",
        "top = 10  # You can change this value according to the number of top actors you want to be shown on the graph\n",
        "\n",
        "from matplotlib.ticker import MaxNLocator\n",
        "\n",
        "netflix_actors = pd.DataFrame(df_netflix.cast.str.split(', ').tolist(), index=[df_netflix.country, df_netflix.type]).stack()\n",
        "netflix_actors = netflix_actors.reset_index()[[0, 'country', 'type']]\n",
        "netflix_actors.columns = ['actor', 'country', 'type']\n",
        "netflix_movie_actors = netflix_actors[netflix_actors['type']=='Movie']\n",
        "\n",
        "imdb_actors = pd.DataFrame(df_imbd_m.actors.str.split(', ').tolist(), index=[df_imbd_m.country]).stack()\n",
        "imdb_actors = imdb_actors.reset_index()[[0, 'country']]\n",
        "imdb_actors.columns = ['actor', 'country']\n",
        "\n",
        "all_movie_actors = netflix_movie_actors.append(imdb_actors, ignore_index=True)\n",
        "all_movie_actors = all_movie_actors[['actor', 'country']]\n",
        "all_movie_actors = all_movie_actors.replace(to_replace='United States', value='USA')\n",
        "all_movie_actors = all_movie_actors.replace(to_replace='United Kingdom', value='UK')\n",
        "\n",
        "all_movie_actors = all_movie_actors[all_movie_actors['country']==country]\n",
        "all_movie_actors = all_movie_actors[all_movie_actors['actor'] != 'Unknown']\n",
        "\n",
        "actor_plot = sn.countplot(y='actor' , data=all_movie_actors, order=all_movie_actors['actor'].value_counts().index[:top])\n",
        "actor_plot.xaxis.set_major_locator(MaxNLocator(integer=True))"
      ],
      "execution_count": null,
      "outputs": [
        {
          "output_type": "display_data",
          "data": {
            "image/png": "[encoded data removed]",
            "text/plain": [
              "<Figure size 432x288 with 1 Axes>"
            ]
          },
          "metadata": {
            "tags": [],
            "needs_background": "light"
          }
        }
      ]
    },
    {
      "cell_type": "markdown",
      "metadata": {
        "id": "XeqWXe2DNggs"
      },
      "source": [
        "### Top TV Show actors by country"
      ]
    },
    {
      "cell_type": "markdown",
      "metadata": {
        "id": "C2Xi68zuNnI8"
      },
      "source": [
        "Αλλάξτε τις τιμές στις μεταβλητές **country** και **top** για αλλαγή της χώρας ή του αριθμού ηθοποιών αντίστοιχα."
      ]
    },
    {
      "cell_type": "code",
      "metadata": {
        "id": "3swf4KylNn3N",
        "colab": {
          "base_uri": "https://localhost:8080/",
          "height": 279
        },
        "outputId": "d73d1363-1dfb-4ce5-ec32-d9454714d0c2"
      },
      "source": [
        "country = 'United States'  # You can change this value according to the country of interest\n",
        "top = 10  # You can change this value according to the number of top actors you want to be shown on the graph\n",
        "\n",
        "from matplotlib.ticker import MaxNLocator\n",
        "\n",
        "netflix_movie_actors = netflix_actors[netflix_actors['type']=='TV Show']\n",
        "netflix_movie_actors = netflix_movie_actors[netflix_movie_actors['country']==country]\n",
        "netflix_movie_actors = netflix_movie_actors[netflix_movie_actors['actor'] != 'Unknown'] \n",
        "actor_plot = sn.countplot(y='actor' , data=netflix_movie_actors, order=netflix_movie_actors['actor'].value_counts().index[:top])\n",
        "actor_plot.xaxis.set_major_locator(MaxNLocator(integer=True))"
      ],
      "execution_count": null,
      "outputs": [
        {
          "output_type": "display_data",
          "data": {
            "image/png": "[encoded data removed]",
            "text/plain": [
              "<Figure size 432x288 with 1 Axes>"
            ]
          },
          "metadata": {
            "tags": [],
            "needs_background": "light"
          }
        }
      ]
    },
    {
      "cell_type": "markdown",
      "metadata": {
        "id": "nNc_2VgscJ7-"
      },
      "source": [
        "## Ερώτημα 6"
      ]
    },
    {
      "cell_type": "markdown",
      "metadata": {
        "id": "Bg1sOGQ3JamC"
      },
      "source": [
        "### Netflix movies by age rating"
      ]
    },
    {
      "cell_type": "code",
      "metadata": {
        "colab": {
          "base_uri": "https://localhost:8080/",
          "height": 421
        },
        "id": "lqb4OlARcCbY",
        "outputId": "ff7a61b7-cc42-44a5-ba0f-7e09383eb88b"
      },
      "source": [
        "df_netflix_movies=df_netflix[df_netflix['type']=='Movie'] # get Netflix movies\n",
        "df_netflix_movies_rating=df_netflix_movies['rating']\n",
        "\n",
        "df_netflix_movies_rating=df_netflix_movies_rating.replace({'G':'Little Kids'})\n",
        "df_netflix_movies_rating=df_netflix_movies_rating.replace({'TV-Y':'Little Kids'})\n",
        "df_netflix_movies_rating=df_netflix_movies_rating.replace({'TV-G':'Little Kids'})\n",
        "\n",
        "df_netflix_movies_rating=df_netflix_movies_rating.replace({'PG':'Older Kids'})\n",
        "df_netflix_movies_rating=df_netflix_movies_rating.replace({'TV-Y7':'Older Kids'})\n",
        "df_netflix_movies_rating=df_netflix_movies_rating.replace({'TV-Y7-FV':'Older Kids'})\n",
        "df_netflix_movies_rating=df_netflix_movies_rating.replace({'TV-PG':'Older Kids'})\n",
        "\n",
        "df_netflix_movies_rating=df_netflix_movies_rating.replace({'PG-13':'Teens'})\n",
        "df_netflix_movies_rating=df_netflix_movies_rating.replace({'TV-14':'Teens'})\n",
        "\n",
        "df_netflix_movies_rating=df_netflix_movies_rating.replace({'R':'Mature'})\n",
        "df_netflix_movies_rating=df_netflix_movies_rating.replace({'NC-17':'Mature'})\n",
        "df_netflix_movies_rating=df_netflix_movies_rating.replace({'TV-MA':'Mature'})\n",
        "\n",
        "df_netflix_movies_rating=df_netflix_movies_rating.replace({'NR':''})\n",
        "df_netflix_movies_rating=df_netflix_movies_rating.replace({'UR':''})\n",
        "df_netflix_movies_rating=df_netflix_movies_rating.replace({'Unknown':''})\n",
        "df_netflix_movies_rating.replace('', np.nan, inplace=True) # replace empty cells with NaN\n",
        "df_netflix_movies_rating.dropna(inplace=True) #drop NaN\n",
        "\n",
        "df_netflix_movies_rating=df_netflix_movies_rating.value_counts()\n",
        "# df_netflix_rating\n",
        "\n",
        "df_netflix_movies_rating.plot(kind='bar', figsize=(20, 6), rot=0)\n",
        "plt.xlabel(\"Age Rating\", labelpad=14)\n",
        "plt.ylabel(\"Count of Movies\", labelpad=14)\n",
        "plt.title(\"Netflix Movies by Age Rating\", y=1.02);\n"
      ],
      "execution_count": null,
      "outputs": [
        {
          "output_type": "display_data",
          "data": {
            "image/png": "[encoded data removed]",
            "text/plain": [
              "<Figure size 1440x432 with 1 Axes>"
            ]
          },
          "metadata": {
            "tags": [],
            "needs_background": "light"
          }
        }
      ]
    },
    {
      "cell_type": "markdown",
      "metadata": {
        "id": "qvssslPCJjJr"
      },
      "source": [
        "### Netflix shows by age rating"
      ]
    },
    {
      "cell_type": "code",
      "metadata": {
        "colab": {
          "base_uri": "https://localhost:8080/",
          "height": 421
        },
        "id": "yWxQqO7mvfGJ",
        "outputId": "d0973dca-d5b2-4068-9d2e-d7401fda450d"
      },
      "source": [
        "df_netflix_series=df_netflix[df_netflix['type']=='TV Show'] # get Netflix movies\n",
        "df_netflix_series_rating=df_netflix_series['rating']\n",
        "\n",
        "df_netflix_series_rating=df_netflix_series_rating.replace({'G':'Little Kids'})\n",
        "df_netflix_series_rating=df_netflix_series_rating.replace({'TV-Y':'Little Kids'})\n",
        "df_netflix_series_rating=df_netflix_series_rating.replace({'TV-G':'Little Kids'})\n",
        "\n",
        "df_netflix_series_rating=df_netflix_series_rating.replace({'PG':'Older Kids'})\n",
        "df_netflix_series_rating=df_netflix_series_rating.replace({'TV-Y7':'Older Kids'})\n",
        "df_netflix_series_rating=df_netflix_series_rating.replace({'TV-Y7-FV':'Older Kids'})\n",
        "df_netflix_series_rating=df_netflix_series_rating.replace({'TV-PG':'Older Kids'})\n",
        "\n",
        "df_netflix_series_rating=df_netflix_series_rating.replace({'PG-13':'Teens'})\n",
        "df_netflix_series_rating=df_netflix_series_rating.replace({'TV-14':'Teens'})\n",
        "\n",
        "df_netflix_series_rating=df_netflix_series_rating.replace({'R':'Mature'})\n",
        "df_netflix_series_rating=df_netflix_series_rating.replace({'NC-17':'Mature'})\n",
        "df_netflix_series_rating=df_netflix_series_rating.replace({'TV-MA':'Mature'})\n",
        "\n",
        "df_netflix_series_rating=df_netflix_series_rating.replace({'NR':''})\n",
        "df_netflix_series_rating=df_netflix_series_rating.replace({'UR':''})\n",
        "df_netflix_series_rating=df_netflix_series_rating.replace({'Unknown':''})\n",
        "df_netflix_series_rating.replace('', np.nan, inplace=True) # replace empty cells with NaN\n",
        "df_netflix_series_rating.dropna(inplace=True) #drop NaN\n",
        "\n",
        "df_netflix_series_rating=df_netflix_series_rating.value_counts()\n",
        "# df_netflix_rating\n",
        "\n",
        "df_netflix_series_rating.plot(kind='bar', figsize=(20, 6), rot=0)\n",
        "plt.xlabel(\"Age Rating\", labelpad=14)\n",
        "plt.ylabel(\"Count of Shows\", labelpad=14)\n",
        "plt.title(\"Netflix Shows by Age Rating\", y=1.02);"
      ],
      "execution_count": null,
      "outputs": [
        {
          "output_type": "display_data",
          "data": {
            "image/png": "[encoded data removed]",
            "text/plain": [
              "<Figure size 1440x432 with 1 Axes>"
            ]
          },
          "metadata": {
            "tags": [],
            "needs_background": "light"
          }
        }
      ]
    },
    {
      "cell_type": "markdown",
      "metadata": {
        "id": "6-xoI2n8Nxfo"
      },
      "source": [
        "## Ερώτημα 7"
      ]
    },
    {
      "cell_type": "code",
      "metadata": {
        "id": "-sbwC3SpN4wh",
        "colab": {
          "base_uri": "https://localhost:8080/",
          "height": 419
        },
        "outputId": "4196e011-4d03-4ba1-f18c-d53eb2ab44f0"
      },
      "source": [
        "months = ['January', 'February', 'March', 'April', 'May', 'June', 'July', 'August', 'September', 'October', 'November', 'December']\n",
        "\n",
        "netflix_movies = df_netflix[df_netflix['type']=='Movie']\n",
        "netflix_movie_dates = netflix_movies[['title', 'date_added']]\n",
        "for i in netflix_movie_dates.index:\n",
        "    for month in months:\n",
        "        if netflix_movie_dates.at[i, 'date_added'].startswith(month):\n",
        "            netflix_movie_dates.at[i, 'date_added'] = month\n",
        "\n",
        "netflix_movie_dates.columns = ['title', 'month']\n",
        "\n",
        "\n",
        "imdb_movie_dates = df_imbd_m[['title', 'date_published']]\n",
        "#print(int(imdb_movie_dates.at[2, 'date_published'][5:7]))\n",
        "\n",
        "for i in imdb_movie_dates.index:\n",
        "    month = imdb_movie_dates.at[i, 'date_published'][5:7]\n",
        "    try:\n",
        "        imdb_movie_dates.at[i, 'date_published'] = months[int(month)-1]\n",
        "    except:\n",
        "        imdb_movie_dates.at[i, 'date_published'] = 'Unknown'\n",
        "\n",
        "imdb_movie_dates.columns = ['title', 'month']\n",
        "\n",
        "all_movie_dates = netflix_movie_dates.append(imdb_movie_dates, ignore_index=True)\n",
        "all_movie_dates.drop_duplicates(keep='first')"
      ],
      "execution_count": null,
      "outputs": [
        {
          "output_type": "execute_result",
          "data": {
            "text/html": [
              "<div>\n",
              "<style scoped>\n",
              "    .dataframe tbody tr th:only-of-type {\n",
              "        vertical-align: middle;\n",
              "    }\n",
              "\n",
              "    .dataframe tbody tr th {\n",
              "        vertical-align: top;\n",
              "    }\n",
              "\n",
              "    .dataframe thead th {\n",
              "        text-align: right;\n",
              "    }\n",
              "</style>\n",
              "<table border=\"1\" class=\"dataframe\">\n",
              "  <thead>\n",
              "    <tr style=\"text-align: right;\">\n",
              "      <th></th>\n",
              "      <th>title</th>\n",
              "      <th>month</th>\n",
              "    </tr>\n",
              "  </thead>\n",
              "  <tbody>\n",
              "    <tr>\n",
              "      <th>0</th>\n",
              "      <td>7:19</td>\n",
              "      <td>December</td>\n",
              "    </tr>\n",
              "    <tr>\n",
              "      <th>1</th>\n",
              "      <td>23:59</td>\n",
              "      <td>December</td>\n",
              "    </tr>\n",
              "    <tr>\n",
              "      <th>2</th>\n",
              "      <td>9</td>\n",
              "      <td>November</td>\n",
              "    </tr>\n",
              "    <tr>\n",
              "      <th>3</th>\n",
              "      <td>21</td>\n",
              "      <td>January</td>\n",
              "    </tr>\n",
              "    <tr>\n",
              "      <th>4</th>\n",
              "      <td>122</td>\n",
              "      <td>June</td>\n",
              "    </tr>\n",
              "    <tr>\n",
              "      <th>...</th>\n",
              "      <td>...</td>\n",
              "      <td>...</td>\n",
              "    </tr>\n",
              "    <tr>\n",
              "      <th>91227</th>\n",
              "      <td>Le lion</td>\n",
              "      <td>January</td>\n",
              "    </tr>\n",
              "    <tr>\n",
              "      <th>91228</th>\n",
              "      <td>De Beentjes van Sint-Hildegard</td>\n",
              "      <td>February</td>\n",
              "    </tr>\n",
              "    <tr>\n",
              "      <th>91229</th>\n",
              "      <td>Padmavyuhathile Abhimanyu</td>\n",
              "      <td>March</td>\n",
              "    </tr>\n",
              "    <tr>\n",
              "      <th>91230</th>\n",
              "      <td>Sokagin Çocuklari</td>\n",
              "      <td>March</td>\n",
              "    </tr>\n",
              "    <tr>\n",
              "      <th>91231</th>\n",
              "      <td>La vida sense la Sara Amat</td>\n",
              "      <td>February</td>\n",
              "    </tr>\n",
              "  </tbody>\n",
              "</table>\n",
              "<p>90444 rows × 2 columns</p>\n",
              "</div>"
            ],
            "text/plain": [
              "                                title     month\n",
              "0                                7:19  December\n",
              "1                               23:59  December\n",
              "2                                   9  November\n",
              "3                                  21   January\n",
              "4                                 122      June\n",
              "...                               ...       ...\n",
              "91227                         Le lion   January\n",
              "91228  De Beentjes van Sint-Hildegard  February\n",
              "91229       Padmavyuhathile Abhimanyu     March\n",
              "91230               Sokagin Çocuklari     March\n",
              "91231      La vida sense la Sara Amat  February\n",
              "\n",
              "[90444 rows x 2 columns]"
            ]
          },
          "metadata": {
            "tags": []
          },
          "execution_count": 31
        }
      ]
    },
    {
      "cell_type": "code",
      "metadata": {
        "id": "LDS6gaAmN6vF",
        "colab": {
          "base_uri": "https://localhost:8080/",
          "height": 351
        },
        "outputId": "30850850-fbaa-47d6-8f82-eb0e823312b1"
      },
      "source": [
        "all_movie_dates = all_movie_dates[all_movie_dates != 'Unknown']\n",
        "all_movie_dates['month'] = pd.Categorical(all_movie_dates['month'], ['January', 'February', 'March', 'April', 'May', 'June', 'July', 'August', 'September', 'October', 'November', 'December'])\n",
        "all_movie_dates.sort_values('month')\n",
        "\n",
        "plt.figure(figsize=(12,5))\n",
        "sn.countplot(x='month', data=all_movie_dates)"
      ],
      "execution_count": null,
      "outputs": [
        {
          "output_type": "execute_result",
          "data": {
            "text/plain": [
              "<matplotlib.axes._subplots.AxesSubplot at 0x7f5241626450>"
            ]
          },
          "metadata": {
            "tags": []
          },
          "execution_count": 32
        },
        {
          "output_type": "display_data",
          "data": {
            "image/png": "[encoded data removed]",
            "text/plain": [
              "<Figure size 864x360 with 1 Axes>"
            ]
          },
          "metadata": {
            "tags": [],
            "needs_background": "light"
          }
        }
      ]
    },
    {
      "cell_type": "markdown",
      "metadata": {
        "id": "isP6kVIlv6q4"
      },
      "source": [
        "## Ερώτημα 8\n"
      ]
    },
    {
      "cell_type": "code",
      "metadata": {
        "colab": {
          "base_uri": "https://localhost:8080/",
          "height": 503
        },
        "id": "IvJLtl_8vokO",
        "outputId": "a9b60f99-26ea-4afd-addd-726b13eb8515"
      },
      "source": [
        "df_genres\n",
        "genres_count = df_genres['genre'].value_counts()\n",
        "ax=genres_count.plot(kind='bar', figsize=(25, 6))\n",
        "for i, v in genres_count.reset_index().iterrows():\n",
        "    ax.text(i, v.genre + 500, v.genre)\n",
        "plt.xlabel(\"Genre\", labelpad=14)\n",
        "plt.ylabel(\"Content Count\", labelpad=14)\n",
        "plt.title(\"Content by Genre\", y=1.02);"
      ],
      "execution_count": null,
      "outputs": [
        {
          "output_type": "display_data",
          "data": {
            "image/png": "[encoded data removed]",
            "text/plain": [
              "<Figure size 1800x432 with 1 Axes>"
            ]
          },
          "metadata": {
            "tags": [],
            "needs_background": "light"
          }
        }
      ]
    },
    {
      "cell_type": "markdown",
      "metadata": {
        "id": "uns21DFnN_sb"
      },
      "source": [
        "## Ερώτημα 9"
      ]
    },
    {
      "cell_type": "code",
      "metadata": {
        "id": "bnzOWPufOD4w",
        "colab": {
          "base_uri": "https://localhost:8080/",
          "height": 419
        },
        "outputId": "2cfce7fd-c83f-46d7-c80b-0802a91c6239"
      },
      "source": [
        "netflix_directors =  df_netflix[['title', 'country', 'director']]\n",
        "imdb_directors = df_imbd_m[['title', 'country', 'director']]\n",
        "\n",
        "all_directors = netflix_directors.append(imdb_directors, ignore_index=True)\n",
        "all_directors = all_directors[all_directors['director'] != 'Unknown']\n",
        "all_directors.drop_duplicates(keep='first')\n",
        "\n",
        "all_directors_exploded = all_directors.assign(country=all_directors['country'].str.split(', ')).explode('country')\n",
        "all_directors_exploded = all_directors_exploded.reset_index(drop=True)\n",
        "all_directors_exploded = all_directors_exploded.replace({',':''}, regex=True)\n",
        "\n",
        "all_directors_exploded = all_directors_exploded.replace(to_replace='United States', value='USA')\n",
        "all_directors_exploded = all_directors_exploded.replace(to_replace='United Kingdom', value='UK')\n",
        "all_directors_exploded"
      ],
      "execution_count": null,
      "outputs": [
        {
          "output_type": "execute_result",
          "data": {
            "text/html": [
              "<div>\n",
              "<style scoped>\n",
              "    .dataframe tbody tr th:only-of-type {\n",
              "        vertical-align: middle;\n",
              "    }\n",
              "\n",
              "    .dataframe tbody tr th {\n",
              "        vertical-align: top;\n",
              "    }\n",
              "\n",
              "    .dataframe thead th {\n",
              "        text-align: right;\n",
              "    }\n",
              "</style>\n",
              "<table border=\"1\" class=\"dataframe\">\n",
              "  <thead>\n",
              "    <tr style=\"text-align: right;\">\n",
              "      <th></th>\n",
              "      <th>title</th>\n",
              "      <th>country</th>\n",
              "      <th>director</th>\n",
              "    </tr>\n",
              "  </thead>\n",
              "  <tbody>\n",
              "    <tr>\n",
              "      <th>0</th>\n",
              "      <td>7:19</td>\n",
              "      <td>Mexico</td>\n",
              "      <td>Jorge Michel Grau</td>\n",
              "    </tr>\n",
              "    <tr>\n",
              "      <th>1</th>\n",
              "      <td>23:59</td>\n",
              "      <td>Singapore</td>\n",
              "      <td>Gilbert Chan</td>\n",
              "    </tr>\n",
              "    <tr>\n",
              "      <th>2</th>\n",
              "      <td>9</td>\n",
              "      <td>USA</td>\n",
              "      <td>Shane Acker</td>\n",
              "    </tr>\n",
              "    <tr>\n",
              "      <th>3</th>\n",
              "      <td>21</td>\n",
              "      <td>USA</td>\n",
              "      <td>Robert Luketic</td>\n",
              "    </tr>\n",
              "    <tr>\n",
              "      <th>4</th>\n",
              "      <td>46</td>\n",
              "      <td>Turkey</td>\n",
              "      <td>Serdar Akar</td>\n",
              "    </tr>\n",
              "    <tr>\n",
              "      <th>...</th>\n",
              "      <td>...</td>\n",
              "      <td>...</td>\n",
              "      <td>...</td>\n",
              "    </tr>\n",
              "    <tr>\n",
              "      <th>115618</th>\n",
              "      <td>Le lion</td>\n",
              "      <td>Belgium</td>\n",
              "      <td>Ludovic Colbeau-Justin</td>\n",
              "    </tr>\n",
              "    <tr>\n",
              "      <th>115619</th>\n",
              "      <td>De Beentjes van Sint-Hildegard</td>\n",
              "      <td>Netherlands</td>\n",
              "      <td>Johan Nijenhuis</td>\n",
              "    </tr>\n",
              "    <tr>\n",
              "      <th>115620</th>\n",
              "      <td>Padmavyuhathile Abhimanyu</td>\n",
              "      <td>India</td>\n",
              "      <td>Vineesh Aaradya</td>\n",
              "    </tr>\n",
              "    <tr>\n",
              "      <th>115621</th>\n",
              "      <td>Sokagin Çocuklari</td>\n",
              "      <td>Turkey</td>\n",
              "      <td>Ahmet Faik Akinci</td>\n",
              "    </tr>\n",
              "    <tr>\n",
              "      <th>115622</th>\n",
              "      <td>La vida sense la Sara Amat</td>\n",
              "      <td>Spain</td>\n",
              "      <td>Laura Jou</td>\n",
              "    </tr>\n",
              "  </tbody>\n",
              "</table>\n",
              "<p>115623 rows × 3 columns</p>\n",
              "</div>"
            ],
            "text/plain": [
              "                                 title      country                director\n",
              "0                                 7:19       Mexico       Jorge Michel Grau\n",
              "1                                23:59    Singapore            Gilbert Chan\n",
              "2                                    9          USA             Shane Acker\n",
              "3                                   21          USA          Robert Luketic\n",
              "4                                   46       Turkey             Serdar Akar\n",
              "...                                ...          ...                     ...\n",
              "115618                         Le lion      Belgium  Ludovic Colbeau-Justin\n",
              "115619  De Beentjes van Sint-Hildegard  Netherlands         Johan Nijenhuis\n",
              "115620       Padmavyuhathile Abhimanyu        India         Vineesh Aaradya\n",
              "115621               Sokagin Çocuklari       Turkey       Ahmet Faik Akinci\n",
              "115622      La vida sense la Sara Amat        Spain               Laura Jou\n",
              "\n",
              "[115623 rows x 3 columns]"
            ]
          },
          "metadata": {
            "tags": []
          },
          "execution_count": 34
        }
      ]
    },
    {
      "cell_type": "markdown",
      "metadata": {
        "id": "TKy-xySyODHd"
      },
      "source": [
        "### Persentage of total directors that each country has accommodated"
      ]
    },
    {
      "cell_type": "code",
      "metadata": {
        "id": "saq8GfuIOQHk",
        "colab": {
          "base_uri": "https://localhost:8080/",
          "height": 575
        },
        "outputId": "b0518b40-3106-4505-b676-11a668bc409a"
      },
      "source": [
        "directors_by_country = all_directors_exploded[['country', 'director']]\n",
        "directors_by_country.drop_duplicates(keep='first')\n",
        "\n",
        "\n",
        "director_count = directors_by_country['country'].value_counts()\n",
        "\n",
        "labels = total_count.index.tolist()\n",
        "less_labels = []\n",
        "for i in range(len(labels)):\n",
        "    if i < 9:\n",
        "        less_labels.append(labels[i])\n",
        "    else:\n",
        "        less_labels.append('')\n",
        "plot = director_count.plot.pie(y='country', autopct=my_autopct, labels=less_labels, figsize=(10,10))"
      ],
      "execution_count": null,
      "outputs": [
        {
          "output_type": "display_data",
          "data": {
            "image/png": "[encoded data removed]",
            "text/plain": [
              "<Figure size 720x720 with 1 Axes>"
            ]
          },
          "metadata": {
            "tags": []
          }
        }
      ]
    },
    {
      "cell_type": "markdown",
      "metadata": {
        "id": "EgHKkSgtOSed"
      },
      "source": [
        "### Top directors by country"
      ]
    },
    {
      "cell_type": "markdown",
      "metadata": {
        "id": "lZN_GAoDOdp1"
      },
      "source": [
        "Αλλάξτε τις τιμές στις μεταβλητές **country** και **top** για αλλαγή της χώρας ή του αριθμού σκηνοθετών αντίστοιχα."
      ]
    },
    {
      "cell_type": "code",
      "metadata": {
        "id": "qCpfmJYUO3EE",
        "colab": {
          "base_uri": "https://localhost:8080/",
          "height": 279
        },
        "outputId": "a4fdaf2d-ee8c-4d44-fcae-2bcbdacd5723"
      },
      "source": [
        "country = 'Greece'  # You can change this value according to the country of interest (use \"USA\" and \"UK\" for United States and Kingdom respectively)\n",
        "top = 10  # You can change this value according to the number of top actors you want to be shown on the graph\n",
        "\n",
        "from matplotlib.ticker import MaxNLocator\n",
        "\n",
        "top_directors = all_directors_exploded[all_directors_exploded['country']==country]\n",
        "\n",
        "director_plot = sn.countplot(y='director' , data=top_directors, order=top_directors['director'].value_counts().index[:top])\n",
        "director_plot.xaxis.set_major_locator(MaxNLocator(integer=True))"
      ],
      "execution_count": null,
      "outputs": [
        {
          "output_type": "display_data",
          "data": {
            "image/png": "[encoded data removed]",
            "text/plain": [
              "<Figure size 432x288 with 1 Axes>"
            ]
          },
          "metadata": {
            "tags": [],
            "needs_background": "light"
          }
        }
      ]
    },
    {
      "cell_type": "markdown",
      "metadata": {
        "id": "v_qUjy81D5To"
      },
      "source": [
        "## Ερώτημα 10"
      ]
    },
    {
      "cell_type": "code",
      "metadata": {
        "colab": {
          "base_uri": "https://localhost:8080/",
          "height": 487
        },
        "id": "MWwGpjOAD9fe",
        "outputId": "e7f0163a-9bfd-4945-b83b-9b667074e36d"
      },
      "source": [
        "df_netflix_series['duration']\n",
        "\n",
        "# df_netflix_rating\n",
        "\n",
        "\n",
        "mylist=['1 Season', '2 Seasons', '3 Seasons', '4 Seasons', '5 Seasons', '6 Seasons', '7 Seasons', '8 Seasons', '9 Seasons', '10 Seasons', '11 Seasons', '12 Seasons', '13 Seasons', '15 Seasons', '16 Seasons']\n",
        "df_netflix_series['duration'] = pd.Categorical(df_netflix_series['duration'], mylist)\n",
        "df_netflix_series.sort_values('duration')\n",
        "\n",
        "plt.figure(figsize=(12,5))\n",
        "plot2=sn.countplot(x='duration', data=df_netflix_series)\n",
        "plot2.set_xticklabels(plot2.get_xticklabels(), rotation = 45, ha = 'right')\n",
        "for p in plot2.patches:\n",
        "  plot2.annotate(int(p.get_height()), (p.get_x()+0.3,p.get_height()+10))\n",
        "plt.tight_layout()\n",
        "\n",
        "# seasons_count=df_netflix_seasons.value_counts()\n",
        "# ax=seasons_count.plot(kind='bar', figsize=(20, 6), rot=0)\n",
        "# for i, v in seasons_count.reset_index().iterrows():\n",
        "#     ax.text(i, v.all() + 25, v.all())\n",
        "# plt.xlabel(\"Number of Seasons\", labelpad=14)\n",
        "# plt.ylabel(\"Count of Shows\", labelpad=14)\n",
        "plt.title(\"Count of Shows by Number of Seasons\", y=1.02);"
      ],
      "execution_count": null,
      "outputs": [
        {
          "output_type": "stream",
          "text": [
            "/usr/local/lib/python3.7/dist-packages/ipykernel_launcher.py:7: SettingWithCopyWarning: \n",
            "A value is trying to be set on a copy of a slice from a DataFrame.\n",
            "Try using .loc[row_indexer,col_indexer] = value instead\n",
            "\n",
            "See the caveats in the documentation: https://pandas.pydata.org/pandas-docs/stable/user_guide/indexing.html#returning-a-view-versus-a-copy\n",
            "  import sys\n"
          ],
          "name": "stderr"
        },
        {
          "output_type": "display_data",
          "data": {
            "image/png": "[encoded data removed]",
            "text/plain": [
              "<Figure size 864x360 with 1 Axes>"
            ]
          },
          "metadata": {
            "tags": [],
            "needs_background": "light"
          }
        }
      ]
    },
    {
      "cell_type": "markdown",
      "metadata": {
        "id": "qWdf93CUFhJs"
      },
      "source": [
        "## Ερώτημα 11"
      ]
    },
    {
      "cell_type": "code",
      "metadata": {
        "colab": {
          "base_uri": "https://localhost:8080/",
          "height": 1000
        },
        "id": "GtiefciOOj8m",
        "outputId": "7486fcd1-1802-4dd1-d6a7-444bcf1edfdd"
      },
      "source": [
        "path = r'/content/gdrive/MyDrive/TED/Ergasia1/IMDb movies.csv' # Τo r κάνει escape όλους τους χαρακτήρες στην συμβολοσειρά\n",
        "df_imdb_m = pd.read_csv(path)\n",
        "df_new_imdb=df_imdb_m\n",
        "df_new_imdb.fillna('Unknown', inplace = True)\n",
        "df_new_imdb[\"title\"] = df_imdb_m[\"title\"] + ','  + df_imdb_m[\"original_title\"]\n",
        "# del df_new_imdb['original_title']\n",
        "df_new_imdb=df_new_imdb.assign(title=df_imdb_exploded['title'].str.split(',')).explode('title')\n",
        "df_new_imdb=df_new_imdb.drop_duplicates()\n",
        "df_new_imdb=df_new_imdb.reset_index(drop=True)\n",
        "df_new_imdb"
      ],
      "execution_count": null,
      "outputs": [
        {
          "output_type": "stream",
          "text": [
            "/usr/local/lib/python3.7/dist-packages/IPython/core/interactiveshell.py:2718: DtypeWarning: Columns (3) have mixed types.Specify dtype option on import or set low_memory=False.\n",
            "  interactivity=interactivity, compiler=compiler, result=result)\n"
          ],
          "name": "stderr"
        },
        {
          "output_type": "execute_result",
          "data": {
            "text/html": [
              "<div>\n",
              "<style scoped>\n",
              "    .dataframe tbody tr th:only-of-type {\n",
              "        vertical-align: middle;\n",
              "    }\n",
              "\n",
              "    .dataframe tbody tr th {\n",
              "        vertical-align: top;\n",
              "    }\n",
              "\n",
              "    .dataframe thead th {\n",
              "        text-align: right;\n",
              "    }\n",
              "</style>\n",
              "<table border=\"1\" class=\"dataframe\">\n",
              "  <thead>\n",
              "    <tr style=\"text-align: right;\">\n",
              "      <th></th>\n",
              "      <th>imdb_title_id</th>\n",
              "      <th>title</th>\n",
              "      <th>original_title</th>\n",
              "      <th>year</th>\n",
              "      <th>date_published</th>\n",
              "      <th>genre</th>\n",
              "      <th>duration</th>\n",
              "      <th>country</th>\n",
              "      <th>language</th>\n",
              "      <th>director</th>\n",
              "      <th>writer</th>\n",
              "      <th>production_company</th>\n",
              "      <th>actors</th>\n",
              "      <th>description</th>\n",
              "      <th>avg_vote</th>\n",
              "      <th>votes</th>\n",
              "      <th>budget</th>\n",
              "      <th>usa_gross_income</th>\n",
              "      <th>worlwide_gross_income</th>\n",
              "      <th>metascore</th>\n",
              "      <th>reviews_from_users</th>\n",
              "      <th>reviews_from_critics</th>\n",
              "    </tr>\n",
              "  </thead>\n",
              "  <tbody>\n",
              "    <tr>\n",
              "      <th>0</th>\n",
              "      <td>tt0000009</td>\n",
              "      <td>Miss Jerry</td>\n",
              "      <td>Miss Jerry</td>\n",
              "      <td>1894</td>\n",
              "      <td>1894-10-09</td>\n",
              "      <td>Romance</td>\n",
              "      <td>45</td>\n",
              "      <td>USA</td>\n",
              "      <td>None</td>\n",
              "      <td>Alexander Black</td>\n",
              "      <td>Alexander Black</td>\n",
              "      <td>Alexander Black Photoplays</td>\n",
              "      <td>Blanche Bayliss, William Courtenay, Chauncey D...</td>\n",
              "      <td>The adventures of a female reporter in the 1890s.</td>\n",
              "      <td>5.9</td>\n",
              "      <td>154</td>\n",
              "      <td>Unknown</td>\n",
              "      <td>Unknown</td>\n",
              "      <td>Unknown</td>\n",
              "      <td>Unknown</td>\n",
              "      <td>1</td>\n",
              "      <td>2</td>\n",
              "    </tr>\n",
              "    <tr>\n",
              "      <th>1</th>\n",
              "      <td>tt0000574</td>\n",
              "      <td>The Story of the Kelly Gang</td>\n",
              "      <td>The Story of the Kelly Gang</td>\n",
              "      <td>1906</td>\n",
              "      <td>1906-12-26</td>\n",
              "      <td>Biography, Crime, Drama</td>\n",
              "      <td>70</td>\n",
              "      <td>Australia</td>\n",
              "      <td>None</td>\n",
              "      <td>Charles Tait</td>\n",
              "      <td>Charles Tait</td>\n",
              "      <td>J. and N. Tait</td>\n",
              "      <td>Elizabeth Tait, John Tait, Norman Campbell, Be...</td>\n",
              "      <td>True story of notorious Australian outlaw Ned ...</td>\n",
              "      <td>6.1</td>\n",
              "      <td>589</td>\n",
              "      <td>$ 2250</td>\n",
              "      <td>Unknown</td>\n",
              "      <td>Unknown</td>\n",
              "      <td>Unknown</td>\n",
              "      <td>7</td>\n",
              "      <td>7</td>\n",
              "    </tr>\n",
              "    <tr>\n",
              "      <th>2</th>\n",
              "      <td>tt0001892</td>\n",
              "      <td>Den sorte drøm</td>\n",
              "      <td>Den sorte drøm</td>\n",
              "      <td>1911</td>\n",
              "      <td>1911-08-19</td>\n",
              "      <td>Drama</td>\n",
              "      <td>53</td>\n",
              "      <td>Germany, Denmark</td>\n",
              "      <td>Unknown</td>\n",
              "      <td>Urban Gad</td>\n",
              "      <td>Urban Gad, Gebhard Schätzler-Perasini</td>\n",
              "      <td>Fotorama</td>\n",
              "      <td>Asta Nielsen, Valdemar Psilander, Gunnar Helse...</td>\n",
              "      <td>Two men of high rank are both wooing the beaut...</td>\n",
              "      <td>5.8</td>\n",
              "      <td>188</td>\n",
              "      <td>Unknown</td>\n",
              "      <td>Unknown</td>\n",
              "      <td>Unknown</td>\n",
              "      <td>Unknown</td>\n",
              "      <td>5</td>\n",
              "      <td>2</td>\n",
              "    </tr>\n",
              "    <tr>\n",
              "      <th>3</th>\n",
              "      <td>tt0002101</td>\n",
              "      <td>Den sorte drøm</td>\n",
              "      <td>Cleopatra</td>\n",
              "      <td>1912</td>\n",
              "      <td>1912-11-13</td>\n",
              "      <td>Drama, History</td>\n",
              "      <td>100</td>\n",
              "      <td>USA</td>\n",
              "      <td>English</td>\n",
              "      <td>Charles L. Gaskill</td>\n",
              "      <td>Victorien Sardou</td>\n",
              "      <td>Helen Gardner Picture Players</td>\n",
              "      <td>Helen Gardner, Pearl Sindelar, Miss Fielding, ...</td>\n",
              "      <td>The fabled queen of Egypt's affair with Roman ...</td>\n",
              "      <td>5.2</td>\n",
              "      <td>446</td>\n",
              "      <td>$ 45000</td>\n",
              "      <td>Unknown</td>\n",
              "      <td>Unknown</td>\n",
              "      <td>Unknown</td>\n",
              "      <td>25</td>\n",
              "      <td>3</td>\n",
              "    </tr>\n",
              "    <tr>\n",
              "      <th>4</th>\n",
              "      <td>tt0002130</td>\n",
              "      <td>Cleopatra</td>\n",
              "      <td>L'Inferno</td>\n",
              "      <td>1911</td>\n",
              "      <td>1911-03-06</td>\n",
              "      <td>Adventure, Drama, Fantasy</td>\n",
              "      <td>68</td>\n",
              "      <td>Italy</td>\n",
              "      <td>Italian</td>\n",
              "      <td>Francesco Bertolini, Adolfo Padovan</td>\n",
              "      <td>Dante Alighieri</td>\n",
              "      <td>Milano Film</td>\n",
              "      <td>Salvatore Papa, Arturo Pirovano, Giuseppe de L...</td>\n",
              "      <td>Loosely adapted from Dante's Divine Comedy and...</td>\n",
              "      <td>7.0</td>\n",
              "      <td>2237</td>\n",
              "      <td>Unknown</td>\n",
              "      <td>Unknown</td>\n",
              "      <td>Unknown</td>\n",
              "      <td>Unknown</td>\n",
              "      <td>31</td>\n",
              "      <td>14</td>\n",
              "    </tr>\n",
              "    <tr>\n",
              "      <th>...</th>\n",
              "      <td>...</td>\n",
              "      <td>...</td>\n",
              "      <td>...</td>\n",
              "      <td>...</td>\n",
              "      <td>...</td>\n",
              "      <td>...</td>\n",
              "      <td>...</td>\n",
              "      <td>...</td>\n",
              "      <td>...</td>\n",
              "      <td>...</td>\n",
              "      <td>...</td>\n",
              "      <td>...</td>\n",
              "      <td>...</td>\n",
              "      <td>...</td>\n",
              "      <td>...</td>\n",
              "      <td>...</td>\n",
              "      <td>...</td>\n",
              "      <td>...</td>\n",
              "      <td>...</td>\n",
              "      <td>...</td>\n",
              "      <td>...</td>\n",
              "      <td>...</td>\n",
              "    </tr>\n",
              "    <tr>\n",
              "      <th>85850</th>\n",
              "      <td>tt9908390</td>\n",
              "      <td>The Devil's Bargain</td>\n",
              "      <td>Le lion</td>\n",
              "      <td>2020</td>\n",
              "      <td>2020-01-29</td>\n",
              "      <td>Comedy</td>\n",
              "      <td>95</td>\n",
              "      <td>France, Belgium</td>\n",
              "      <td>French</td>\n",
              "      <td>Ludovic Colbeau-Justin</td>\n",
              "      <td>Alexandre Coquelle, Matthieu Le Naour</td>\n",
              "      <td>Monkey Pack Films</td>\n",
              "      <td>Dany Boon, Philippe Katerine, Anne Serra, Samu...</td>\n",
              "      <td>A psychiatric hospital patient pretends to be ...</td>\n",
              "      <td>5.3</td>\n",
              "      <td>398</td>\n",
              "      <td>Unknown</td>\n",
              "      <td>Unknown</td>\n",
              "      <td>$ 3507171</td>\n",
              "      <td>Unknown</td>\n",
              "      <td>Unknown</td>\n",
              "      <td>4</td>\n",
              "    </tr>\n",
              "    <tr>\n",
              "      <th>85851</th>\n",
              "      <td>tt9911196</td>\n",
              "      <td>Krampus: The Christmas Devil</td>\n",
              "      <td>De Beentjes van Sint-Hildegard</td>\n",
              "      <td>2020</td>\n",
              "      <td>2020-02-13</td>\n",
              "      <td>Comedy, Drama</td>\n",
              "      <td>103</td>\n",
              "      <td>Netherlands</td>\n",
              "      <td>German, Dutch</td>\n",
              "      <td>Johan Nijenhuis</td>\n",
              "      <td>Radek Bajgar, Herman Finkers</td>\n",
              "      <td>Johan Nijenhuis &amp; Co</td>\n",
              "      <td>Herman Finkers, Johanna ter Steege, Leonie ter...</td>\n",
              "      <td>A middle-aged veterinary surgeon believes his ...</td>\n",
              "      <td>7.7</td>\n",
              "      <td>724</td>\n",
              "      <td>Unknown</td>\n",
              "      <td>Unknown</td>\n",
              "      <td>$ 7299062</td>\n",
              "      <td>Unknown</td>\n",
              "      <td>6</td>\n",
              "      <td>4</td>\n",
              "    </tr>\n",
              "    <tr>\n",
              "      <th>85852</th>\n",
              "      <td>tt9911774</td>\n",
              "      <td>Knock 'em Dead</td>\n",
              "      <td>Padmavyuhathile Abhimanyu</td>\n",
              "      <td>2019</td>\n",
              "      <td>2019-03-08</td>\n",
              "      <td>Drama</td>\n",
              "      <td>130</td>\n",
              "      <td>India</td>\n",
              "      <td>Malayalam</td>\n",
              "      <td>Vineesh Aaradya</td>\n",
              "      <td>Vineesh Aaradya, Vineesh Aaradya</td>\n",
              "      <td>RMCC Productions</td>\n",
              "      <td>Anoop Chandran, Indrans, Sona Nair, Simon Brit...</td>\n",
              "      <td>Unknown</td>\n",
              "      <td>7.9</td>\n",
              "      <td>265</td>\n",
              "      <td>Unknown</td>\n",
              "      <td>Unknown</td>\n",
              "      <td>Unknown</td>\n",
              "      <td>Unknown</td>\n",
              "      <td>Unknown</td>\n",
              "      <td>Unknown</td>\n",
              "    </tr>\n",
              "    <tr>\n",
              "      <th>85853</th>\n",
              "      <td>tt9914286</td>\n",
              "      <td>How to Follow Strangers</td>\n",
              "      <td>Sokagin Çocuklari</td>\n",
              "      <td>2019</td>\n",
              "      <td>2019-03-15</td>\n",
              "      <td>Drama, Family</td>\n",
              "      <td>98</td>\n",
              "      <td>Turkey</td>\n",
              "      <td>Turkish</td>\n",
              "      <td>Ahmet Faik Akinci</td>\n",
              "      <td>Ahmet Faik Akinci, Kasim Uçkan</td>\n",
              "      <td>Gizem Ajans</td>\n",
              "      <td>Ahmet Faik Akinci, Belma Mamati, Metin Keçeci,...</td>\n",
              "      <td>Unknown</td>\n",
              "      <td>6.4</td>\n",
              "      <td>194</td>\n",
              "      <td>Unknown</td>\n",
              "      <td>Unknown</td>\n",
              "      <td>$ 2833</td>\n",
              "      <td>Unknown</td>\n",
              "      <td>Unknown</td>\n",
              "      <td>Unknown</td>\n",
              "    </tr>\n",
              "    <tr>\n",
              "      <th>85854</th>\n",
              "      <td>tt9914942</td>\n",
              "      <td>100% Love</td>\n",
              "      <td>La vida sense la Sara Amat</td>\n",
              "      <td>2019</td>\n",
              "      <td>2020-02-05</td>\n",
              "      <td>Drama</td>\n",
              "      <td>74</td>\n",
              "      <td>Spain</td>\n",
              "      <td>Catalan</td>\n",
              "      <td>Laura Jou</td>\n",
              "      <td>Coral Cruz, Pep Puig</td>\n",
              "      <td>La Xarxa de Comunicació Local</td>\n",
              "      <td>Maria Morera Colomer, Biel Rossell Pelfort, Is...</td>\n",
              "      <td>Pep, a 13-year-old boy, is in love with a girl...</td>\n",
              "      <td>6.7</td>\n",
              "      <td>102</td>\n",
              "      <td>Unknown</td>\n",
              "      <td>Unknown</td>\n",
              "      <td>$ 59794</td>\n",
              "      <td>Unknown</td>\n",
              "      <td>Unknown</td>\n",
              "      <td>2</td>\n",
              "    </tr>\n",
              "  </tbody>\n",
              "</table>\n",
              "<p>85855 rows × 22 columns</p>\n",
              "</div>"
            ],
            "text/plain": [
              "      imdb_title_id  ... reviews_from_critics\n",
              "0         tt0000009  ...                    2\n",
              "1         tt0000574  ...                    7\n",
              "2         tt0001892  ...                    2\n",
              "3         tt0002101  ...                    3\n",
              "4         tt0002130  ...                   14\n",
              "...             ...  ...                  ...\n",
              "85850     tt9908390  ...                    4\n",
              "85851     tt9911196  ...                    4\n",
              "85852     tt9911774  ...              Unknown\n",
              "85853     tt9914286  ...              Unknown\n",
              "85854     tt9914942  ...                    2\n",
              "\n",
              "[85855 rows x 22 columns]"
            ]
          },
          "metadata": {
            "tags": []
          },
          "execution_count": 38
        }
      ]
    },
    {
      "cell_type": "code",
      "metadata": {
        "colab": {
          "base_uri": "https://localhost:8080/",
          "height": 419
        },
        "id": "qRJgbV40I-3h",
        "outputId": "0704a001-2929-45e7-a936-b8aecaeb6388"
      },
      "source": [
        "\n",
        "df_netflix_movies_on_imdb=pd.merge(df_netflix_movies, df_new_imdb, on=\"title\")\n",
        "df_netflix_movies_on_imdb=df_netflix_movies_on_imdb[['title', 'imdb_title_id', 'avg_vote']]\n",
        "df_netflix_movies_on_imdb"
      ],
      "execution_count": null,
      "outputs": [
        {
          "output_type": "execute_result",
          "data": {
            "text/html": [
              "<div>\n",
              "<style scoped>\n",
              "    .dataframe tbody tr th:only-of-type {\n",
              "        vertical-align: middle;\n",
              "    }\n",
              "\n",
              "    .dataframe tbody tr th {\n",
              "        vertical-align: top;\n",
              "    }\n",
              "\n",
              "    .dataframe thead th {\n",
              "        text-align: right;\n",
              "    }\n",
              "</style>\n",
              "<table border=\"1\" class=\"dataframe\">\n",
              "  <thead>\n",
              "    <tr style=\"text-align: right;\">\n",
              "      <th></th>\n",
              "      <th>title</th>\n",
              "      <th>imdb_title_id</th>\n",
              "      <th>avg_vote</th>\n",
              "    </tr>\n",
              "  </thead>\n",
              "  <tbody>\n",
              "    <tr>\n",
              "      <th>0</th>\n",
              "      <td>23:59</td>\n",
              "      <td>tt6902000</td>\n",
              "      <td>1.8</td>\n",
              "    </tr>\n",
              "    <tr>\n",
              "      <th>1</th>\n",
              "      <td>9</td>\n",
              "      <td>tt1034010</td>\n",
              "      <td>3.5</td>\n",
              "    </tr>\n",
              "    <tr>\n",
              "      <th>2</th>\n",
              "      <td>9</td>\n",
              "      <td>tt1645134</td>\n",
              "      <td>6.3</td>\n",
              "    </tr>\n",
              "    <tr>\n",
              "      <th>3</th>\n",
              "      <td>21</td>\n",
              "      <td>tt1671584</td>\n",
              "      <td>6.4</td>\n",
              "    </tr>\n",
              "    <tr>\n",
              "      <th>4</th>\n",
              "      <td>1920</td>\n",
              "      <td>tt3431786</td>\n",
              "      <td>5.6</td>\n",
              "    </tr>\n",
              "    <tr>\n",
              "      <th>...</th>\n",
              "      <td>...</td>\n",
              "      <td>...</td>\n",
              "      <td>...</td>\n",
              "    </tr>\n",
              "    <tr>\n",
              "      <th>1527</th>\n",
              "      <td>Zozo</td>\n",
              "      <td>tt1515882</td>\n",
              "      <td>5.3</td>\n",
              "    </tr>\n",
              "    <tr>\n",
              "      <th>1528</th>\n",
              "      <td>Zozo</td>\n",
              "      <td>tt1515960</td>\n",
              "      <td>4.1</td>\n",
              "    </tr>\n",
              "    <tr>\n",
              "      <th>1529</th>\n",
              "      <td>Zozo</td>\n",
              "      <td>tt1516002</td>\n",
              "      <td>6.4</td>\n",
              "    </tr>\n",
              "    <tr>\n",
              "      <th>1530</th>\n",
              "      <td>Zozo</td>\n",
              "      <td>tt1516009</td>\n",
              "      <td>4.5</td>\n",
              "    </tr>\n",
              "    <tr>\n",
              "      <th>1531</th>\n",
              "      <td>Zozo</td>\n",
              "      <td>tt1516146</td>\n",
              "      <td>6.4</td>\n",
              "    </tr>\n",
              "  </tbody>\n",
              "</table>\n",
              "<p>1532 rows × 3 columns</p>\n",
              "</div>"
            ],
            "text/plain": [
              "      title imdb_title_id  avg_vote\n",
              "0     23:59     tt6902000       1.8\n",
              "1         9     tt1034010       3.5\n",
              "2         9     tt1645134       6.3\n",
              "3        21     tt1671584       6.4\n",
              "4      1920     tt3431786       5.6\n",
              "...     ...           ...       ...\n",
              "1527   Zozo     tt1515882       5.3\n",
              "1528   Zozo     tt1515960       4.1\n",
              "1529   Zozo     tt1516002       6.4\n",
              "1530   Zozo     tt1516009       4.5\n",
              "1531   Zozo     tt1516146       6.4\n",
              "\n",
              "[1532 rows x 3 columns]"
            ]
          },
          "metadata": {
            "tags": []
          },
          "execution_count": 39
        }
      ]
    },
    {
      "cell_type": "markdown",
      "metadata": {
        "id": "IXT21CL2KLdx"
      },
      "source": [
        "### Top 25 movies by average vote"
      ]
    },
    {
      "cell_type": "code",
      "metadata": {
        "colab": {
          "base_uri": "https://localhost:8080/",
          "height": 476
        },
        "id": "EVdS3EyvWyCn",
        "outputId": "1df52694-9e39-4a59-9405-50cc25aa0b03"
      },
      "source": [
        "df_netflix_movies_imdb_ratings=pd.merge(df_netflix_movies_on_imdb, df_ratings[['imdb_title_id', 'mean_vote', 'median_vote']], on=\"imdb_title_id\")\n",
        "df_netflix_movies_imdb_ratings\n",
        "df_avg_vote=df_netflix_movies_imdb_ratings.sort_values(by=['avg_vote'], ascending=False)\n",
        "df_top25=df_avg_vote.head(25)\n",
        "df_top25=df_top25.reset_index(drop=True)\n",
        "df_top25=df_top25[['title', 'avg_vote']]\n",
        "ax=df_top25.plot.barh('title', 'avg_vote', figsize=(5, 7), legend=False)\n",
        "plt.xlabel(\"Average Vote\", labelpad=14)\n",
        "plt.ylabel(\"Movie Titles\", labelpad=14)\n",
        "plt.title(\"Top 25 Movies on Netflix by IMDB average vote\", y=1.02);\n",
        "ax.invert_yaxis()"
      ],
      "execution_count": null,
      "outputs": [
        {
          "output_type": "display_data",
          "data": {
            "image/png": "[encoded data removed]",
            "text/plain": [
              "<Figure size 360x504 with 1 Axes>"
            ]
          },
          "metadata": {
            "tags": [],
            "needs_background": "light"
          }
        }
      ]
    },
    {
      "cell_type": "markdown",
      "metadata": {
        "id": "3xtBMQ8QKojL"
      },
      "source": [
        "### Top 25 movies by mean vote"
      ]
    },
    {
      "cell_type": "code",
      "metadata": {
        "colab": {
          "base_uri": "https://localhost:8080/",
          "height": 476
        },
        "id": "D2Q3rFPa0iEL",
        "outputId": "b986a8db-783a-4fb8-bfae-8fe0e61e9bb8"
      },
      "source": [
        "df_mean_vote=df_netflix_movies_imdb_ratings.sort_values(by=['mean_vote'], ascending=False)\n",
        "df_top25=df_mean_vote.head(25)\n",
        "df_top25=df_top25.reset_index(drop=True)\n",
        "df_top25=df_top25[['title', 'mean_vote']]\n",
        "ax=df_top25.plot.barh('title', 'mean_vote', figsize=(5, 7), legend=False)\n",
        "plt.xlabel(\"Mean Vote\", labelpad=14)\n",
        "plt.ylabel(\"Movie Titles\", labelpad=-50)\n",
        "plt.title(\"Top 25 Movies on Netflix by IMDB mean vote\", y=1.02);\n",
        "ax.invert_yaxis()"
      ],
      "execution_count": null,
      "outputs": [
        {
          "output_type": "display_data",
          "data": {
            "image/png": "[encoded data removed]",
            "text/plain": [
              "<Figure size 360x504 with 1 Axes>"
            ]
          },
          "metadata": {
            "tags": [],
            "needs_background": "light"
          }
        }
      ]
    },
    {
      "cell_type": "markdown",
      "metadata": {
        "id": "L3p2-q2IKHyc"
      },
      "source": [
        "# Recommendation system"
      ]
    },
    {
      "cell_type": "markdown",
      "metadata": {
        "id": "W0et--N1iuSr"
      },
      "source": [
        "## Άσκηση 1"
      ]
    },
    {
      "cell_type": "markdown",
      "metadata": {
        "id": "KjRIta9SLFLd"
      },
      "source": [
        "### Tokenization"
      ]
    },
    {
      "cell_type": "code",
      "metadata": {
        "colab": {
          "base_uri": "https://localhost:8080/"
        },
        "id": "3aNjHGxZKCvw",
        "outputId": "638bdaaa-f4f7-4e0c-fe98-b241a8aa5fd7"
      },
      "source": [
        "df_recommend = df_netflix[['show_id', 'title', 'description']]\n",
        "df_recommend['concat'] = df_recommend['title'] + ' ' + df_recommend['description']\n",
        "texts = df_recommend['concat'].tolist()\n",
        "print(texts[1])\n",
        "\n",
        "from sklearn.feature_extraction.text import CountVectorizer\n",
        "\n",
        "def tokenization(texts):\n",
        "    output = []\n",
        "    for sentence in texts:\n",
        "        sentence = sentence.lower()\n",
        "        sentence = sentence.replace(',', '')\n",
        "        sentence = sentence.replace('.', '')\n",
        "        sentence = sentence.split()\n",
        "        output.append(sentence)\n",
        "    return output\n",
        "\n",
        "texts = tokenization(texts)\n",
        "print(texts[1])"
      ],
      "execution_count": null,
      "outputs": [
        {
          "output_type": "stream",
          "text": [
            "7:19 After a devastating earthquake hits Mexico City, trapped survivors from all walks of life wait to be rescued while trying desperately to stay alive.\n",
            "['7:19', 'after', 'a', 'devastating', 'earthquake', 'hits', 'mexico', 'city', 'trapped', 'survivors', 'from', 'all', 'walks', 'of', 'life', 'wait', 'to', 'be', 'rescued', 'while', 'trying', 'desperately', 'to', 'stay', 'alive']\n"
          ],
          "name": "stdout"
        },
        {
          "output_type": "stream",
          "text": [
            "/usr/local/lib/python3.7/dist-packages/ipykernel_launcher.py:2: SettingWithCopyWarning: \n",
            "A value is trying to be set on a copy of a slice from a DataFrame.\n",
            "Try using .loc[row_indexer,col_indexer] = value instead\n",
            "\n",
            "See the caveats in the documentation: https://pandas.pydata.org/pandas-docs/stable/user_guide/indexing.html#returning-a-view-versus-a-copy\n",
            "  \n"
          ],
          "name": "stderr"
        }
      ]
    },
    {
      "cell_type": "markdown",
      "metadata": {
        "id": "BJlDkrJwLIsG"
      },
      "source": [
        "### Stemming"
      ]
    },
    {
      "cell_type": "markdown",
      "metadata": {
        "id": "eL-vA3CrLKhW"
      },
      "source": [
        "Υλοποιήσαμε το stemming αλλά μετά από δοκιμές αποφασίσαμε να χρησιμοποιήσουμε μόνο lemmatization για το σύστημά μας."
      ]
    },
    {
      "cell_type": "code",
      "metadata": {
        "colab": {
          "base_uri": "https://localhost:8080/"
        },
        "id": "0V6vd1OYi0sQ",
        "outputId": "99e9cf5f-c9ae-4754-f9c3-2d78d35b3476"
      },
      "source": [
        "from nltk.stem.porter import *\n",
        "from nltk.stem.snowball import SnowballStemmer\n",
        "\n",
        "def stemming(texts):\n",
        "    output = []\n",
        "    #stemmer = PorterStemmer()\n",
        "    stemmer = SnowballStemmer('english')\n",
        "    for sentence in texts:\n",
        "        stemed_sentence = [stemmer.stem(word) for word in sentence]\n",
        "        stemed_sentence= ' '.join(stemed_sentence)\n",
        "        output.append(stemed_sentence)\n",
        "    return output\n",
        "\n",
        "texts_stemmed = stemming(texts)\n",
        "print(texts_stemmed[1])"
      ],
      "execution_count": null,
      "outputs": [
        {
          "output_type": "stream",
          "text": [
            "7:19 after a devast earthquak hit mexico citi trap survivor from all walk of life wait to be rescu while tri desper to stay aliv\n"
          ],
          "name": "stdout"
        }
      ]
    },
    {
      "cell_type": "markdown",
      "metadata": {
        "id": "k9UFGF70LfMi"
      },
      "source": [
        "### Lemmatization"
      ]
    },
    {
      "cell_type": "markdown",
      "metadata": {
        "id": "Jc7oRMFxSS68"
      },
      "source": [
        "(nltk.download('wordnet') is commented-out)"
      ]
    },
    {
      "cell_type": "code",
      "metadata": {
        "colab": {
          "base_uri": "https://localhost:8080/"
        },
        "id": "DyvQzIoTi3vG",
        "outputId": "f7b63e30-3f59-4568-a84a-cb4ebc4634d2"
      },
      "source": [
        "import nltk\n",
        "# nltk.download('wordnet')\n",
        "from nltk.stem import WordNetLemmatizer\n",
        "\n",
        "def lemmatization(texts):\n",
        "    output = []\n",
        "    lemmatizer = WordNetLemmatizer()\n",
        "    for sentence in texts:\n",
        "        lemmatized_sentence = [lemmatizer.lemmatize(word) for word in sentence]\n",
        "        lemmatized_sentence= ' '.join(lemmatized_sentence)\n",
        "        output.append(lemmatized_sentence)\n",
        "    return output\n",
        "\n",
        "texts_lemmatized = lemmatization(texts)\n",
        "print(texts_lemmatized[1])"
      ],
      "execution_count": null,
      "outputs": [
        {
          "output_type": "stream",
          "text": [
            "[nltk_data] Downloading package wordnet to /root/nltk_data...\n",
            "[nltk_data]   Unzipping corpora/wordnet.zip.\n",
            "7:19 after a devastating earthquake hit mexico city trapped survivor from all walk of life wait to be rescued while trying desperately to stay alive\n"
          ],
          "name": "stdout"
        }
      ]
    },
    {
      "cell_type": "markdown",
      "metadata": {
        "id": "HBjgt7VuLpCl"
      },
      "source": [
        "### a. Vectorization for boolean Bow"
      ]
    },
    {
      "cell_type": "code",
      "metadata": {
        "colab": {
          "base_uri": "https://localhost:8080/"
        },
        "id": "U-iOgJh8jCDx",
        "outputId": "54089aea-f2b6-4aa6-a1f5-d47f4aa52c0b"
      },
      "source": [
        "from sklearn.feature_extraction.text import CountVectorizer\n",
        "\n",
        "cvec = CountVectorizer(stop_words='english', ngram_range=(1,2), min_df=1, max_df=1.0, max_features=15000, binary=True)\n",
        "bool_bow = cvec.fit_transform(texts_lemmatized)\n",
        "#print(cvec.get_feature_names())\n",
        "#np.set_printoptions(threshold=np.inf)\n",
        "print(bool_bow.shape)\n",
        "print(bool_bow[1])"
      ],
      "execution_count": null,
      "outputs": [
        {
          "output_type": "stream",
          "text": [
            "(7787, 15000)\n",
            "  (0, 46)\t1\n",
            "  (0, 3458)\t1\n",
            "  (0, 4020)\t1\n",
            "  (0, 6163)\t1\n",
            "  (0, 8429)\t1\n",
            "  (0, 2246)\t1\n",
            "  (0, 13676)\t1\n",
            "  (0, 12933)\t1\n",
            "  (0, 14336)\t1\n",
            "  (0, 7548)\t1\n",
            "  (0, 14322)\t1\n",
            "  (0, 10913)\t1\n",
            "  (0, 13773)\t1\n",
            "  (0, 3395)\t1\n",
            "  (0, 12507)\t1\n",
            "  (0, 508)\t1\n",
            "  (0, 4021)\t1\n",
            "  (0, 8430)\t1\n",
            "  (0, 14337)\t1\n",
            "  (0, 12509)\t1\n"
          ],
          "name": "stdout"
        }
      ]
    },
    {
      "cell_type": "markdown",
      "metadata": {
        "id": "SRWT9oPYLvyA"
      },
      "source": [
        "### b. Vectorization for TF-IDF"
      ]
    },
    {
      "cell_type": "code",
      "metadata": {
        "colab": {
          "base_uri": "https://localhost:8080/"
        },
        "id": "4W76YZpHj-sF",
        "outputId": "3d443fc6-21fe-42b5-99f2-d3b167fbe8ec"
      },
      "source": [
        "from sklearn.feature_extraction.text import TfidfVectorizer\n",
        "\n",
        "tfvec = TfidfVectorizer(stop_words='english', ngram_range=(1,2), min_df=1, max_df=1.0, max_features=15000)\n",
        "tf_idf = tfvec.fit_transform(texts_lemmatized)\n",
        "#print(tfvec.get_feature_names())\n",
        "print(tf_idf.shape)\n",
        "print(tf_idf[0])"
      ],
      "execution_count": null,
      "outputs": [
        {
          "output_type": "stream",
          "text": [
            "(7787, 15000)\n",
            "  (0, 11566)\t0.3446384838579264\n",
            "  (0, 7448)\t0.2285154033285742\n",
            "  (0, 1559)\t0.2447628680048766\n",
            "  (0, 12396)\t0.32639046033498625\n",
            "  (0, 2661)\t0.3758336861152396\n",
            "  (0, 4734)\t0.28224807934330004\n",
            "  (0, 9374)\t0.3207574726101324\n",
            "  (0, 7325)\t0.2539574437880371\n",
            "  (0, 7141)\t0.38587629814756236\n",
            "  (0, 3986)\t0.26180424650003137\n",
            "  (0, 5535)\t0.23838786331097528\n"
          ],
          "name": "stdout"
        }
      ]
    },
    {
      "cell_type": "code",
      "metadata": {
        "colab": {
          "base_uri": "https://localhost:8080/"
        },
        "id": "rI6W9_zbkpvL",
        "outputId": "d44da8c6-54d6-4501-f6db-15e68ce7ff2b"
      },
      "source": [
        "import numpy as np\n",
        "from sklearn.metrics import jaccard_score\n",
        "\n",
        "test1 = bool_bow[0].A.tolist()\n",
        "test2 = bool_bow[1].A.tolist()\n",
        "print(jaccard_score(test1[0], test2[0]))\n",
        "\n",
        "score_list =[]\n",
        "test1 =bool_bow[0].A.tolist()\n",
        "cj = 1\n",
        "for j in bool_bow[1:]:\n",
        "    test2 =j.A.tolist()\n",
        "    score = jaccard_score(test1[0], test2[0])\n",
        "    if score > 0:\n",
        "        score_list.append((score, cj))\n",
        "    cj += 1\n",
        "print(len(score_list))\n",
        "test1 = bool_bow[0].A.tolist()\n",
        "test2 = bool_bow[2].A.tolist()\n",
        "jaccard_score(test1[0], test2[0])\n",
        "score_list.sort(reverse=True)\n",
        "score_list[:10]"
      ],
      "execution_count": null,
      "outputs": [
        {
          "output_type": "stream",
          "text": [
            "0.0\n",
            "519\n"
          ],
          "name": "stdout"
        },
        {
          "output_type": "execute_result",
          "data": {
            "text/plain": [
              "[(0.08333333333333333, 4235),\n",
              " (0.08333333333333333, 3069),\n",
              " (0.08333333333333333, 575),\n",
              " (0.08, 6907),\n",
              " (0.08, 5821),\n",
              " (0.08, 4232),\n",
              " (0.08, 2733),\n",
              " (0.07692307692307693, 7345),\n",
              " (0.07692307692307693, 4351),\n",
              " (0.07407407407407407, 5489)]"
            ]
          },
          "metadata": {
            "tags": []
          },
          "execution_count": 48
        }
      ]
    },
    {
      "cell_type": "markdown",
      "metadata": {
        "id": "L6FZK3K4lZX1"
      },
      "source": [
        "## Άσκηση 2"
      ]
    },
    {
      "cell_type": "code",
      "metadata": {
        "colab": {
          "base_uri": "https://localhost:8080/"
        },
        "id": "7Y4kEosMlYj_",
        "outputId": "301ba9ab-7085-4d59-e78e-a4b3c1f67dbd"
      },
      "source": [
        "from sklearn.feature_extraction.text import TfidfVectorizer\n",
        "\n",
        "tfvec = TfidfVectorizer(stop_words='english', ngram_range=(1,2), min_df=1, max_df=1.0, max_features=15000)\n",
        "tf_idf = tfvec.fit_transform(texts_lemmatized) # tf_idf η TF-IDF vactorized αναπαράσταση των lemmatized περιγραφών των ταινιών\n",
        "\n",
        "# με tf_idf[k] παίρνουμε το vector με τα tokens του κειμένου της περιγραφής απο το tokenization του TfidfVectorizer και το ποσοστό εμφάνισης του καθενός (αν εμφανίζονται) \n",
        "# στο κείμενο της περιγραφής στη θέση k\n",
        "\n",
        "movie_description1 = tf_idf[0] \n",
        "movie_description2 = tf_idf[2]\n",
        "\n",
        "# Compute Cosine Similarity\n",
        "from sklearn.metrics.pairwise import cosine_similarity\n",
        "\n",
        "print(cosine_similarity(movie_description1, movie_description2)) # συγκρίνουμε κατά cosine_similarity τις περιγραφές 2 ταινιών\n"
      ],
      "execution_count": null,
      "outputs": [
        {
          "output_type": "stream",
          "text": [
            "[[0.04721266]]\n"
          ],
          "name": "stdout"
        }
      ]
    },
    {
      "cell_type": "markdown",
      "metadata": {
        "id": "m428lSpazWJN"
      },
      "source": [
        "## Άσκηση 3"
      ]
    },
    {
      "cell_type": "code",
      "metadata": {
        "id": "YKzfcdAfzSem"
      },
      "source": [
        "# get_similar_movies1('Title_of_the_movie', N=10, method=’boolean’)\n",
        "\n",
        "def get_similar_movies1(title_string, n, method):\n",
        "\n",
        "  df_recommend = df_netflix[['show_id', 'title', 'description']]\n",
        "  titles = df_recommend['title'].tolist()\n",
        "\n",
        "  titles.insert(0, title_string) # insert title at index 0 of titles list\n",
        "  print(\"Movie's title:\", titles[0])\n",
        "  print(n, \"Movies recommended by title:\")\n",
        "\n",
        "  titles_tokenized=tokenization(titles)\n",
        "  titles_lemmatized=lemmatization(titles_tokenized)\n",
        "\n",
        "  score_list =[]\n",
        "\n",
        "  if (method ==\"tf-idf\"):\n",
        "    tfvec = TfidfVectorizer(stop_words='english', ngram_range=(1,2), min_df=1, max_df=1.0, max_features=15000)\n",
        "    tf_idf = tfvec.fit_transform(titles_lemmatized)\n",
        "    test1 =tf_idf[0].A.tolist()\n",
        "    cj = 1\n",
        "    for j in tf_idf[1:]:\n",
        "      test2 =j.A.tolist()\n",
        "      score = cosine_similarity(tf_idf[0], j)\n",
        "      if score > 0:\n",
        "          score_list.append((score, cj))\n",
        "      cj += 1\n",
        "    \n",
        "  elif (method ==\"boolean\"):\n",
        "    cvec = CountVectorizer(stop_words='english', ngram_range=(1,2), min_df=1, max_df=1.0, max_features=15000, binary=True)\n",
        "    bool_bow = cvec.fit_transform(titles_lemmatized)\n",
        "    test1 =bool_bow[0].A.tolist()\n",
        "    cj = 1\n",
        "    for j in bool_bow[1:]:\n",
        "      test2 =j.A.tolist()\n",
        "      score = jaccard_score(test1[0], test2[0])\n",
        "      if score > 0:\n",
        "          score_list.append((score, cj))\n",
        "      cj += 1\n",
        "\n",
        "  else:\n",
        "    return -1\n",
        "\n",
        "  score_list.sort(reverse=True)\n",
        "  for item in score_list[:n]:\n",
        "    index_in_titles_list=item[1]\n",
        "    print(titles[index_in_titles_list])"
      ],
      "execution_count": null,
      "outputs": []
    },
    {
      "cell_type": "markdown",
      "metadata": {
        "id": "N6yOpQh0VOF_"
      },
      "source": [
        "### Boolean method results"
      ]
    },
    {
      "cell_type": "code",
      "metadata": {
        "colab": {
          "base_uri": "https://localhost:8080/"
        },
        "id": "T8LJXh_PVR9o",
        "outputId": "7d4a45dc-b487-4a9f-a310-5df2634ece5b"
      },
      "source": [
        "get_similar_movies1(\"Aliens and monsters animal kingdom\", 10, 'boolean')"
      ],
      "execution_count": null,
      "outputs": [
        {
          "output_type": "stream",
          "text": [
            "Movie's title: Aliens and monsters animal kingdom\n",
            "10 Movies recommended by title:\n",
            "We're No Animals\n",
            "We the Animals\n",
            "The Monster\n",
            "The Last Kingdom\n",
            "Me and the Alien\n",
            "Kingdom of Us\n",
            "Kingdom\n",
            "If I were an Animal\n",
            "A Monster Calls\n",
            "The Monster of Mangatiti\n"
          ],
          "name": "stdout"
        }
      ]
    },
    {
      "cell_type": "markdown",
      "metadata": {
        "id": "lY8H2B2HVF73"
      },
      "source": [
        "### TF-IDF method results"
      ]
    },
    {
      "cell_type": "code",
      "metadata": {
        "colab": {
          "base_uri": "https://localhost:8080/"
        },
        "id": "GZwmeqAzU9Db",
        "outputId": "08da8353-56bb-4277-8094-087e45686c17"
      },
      "source": [
        "get_similar_movies1(\"Aliens and monsters animal kingdom\", 10, 'tf-idf')"
      ],
      "execution_count": null,
      "outputs": [
        {
          "output_type": "stream",
          "text": [
            "Movie's title: Aliens and monsters animal kingdom\n",
            "10 Movies recommended by title:\n",
            "The Last Kingdom\n",
            "Kingdom of Us\n",
            "Kingdom\n",
            "We're No Animals\n",
            "We the Animals\n",
            "Me and the Alien\n",
            "If I were an Animal\n",
            "The Monster\n",
            "A Monster Calls\n",
            "Animal World\n"
          ],
          "name": "stdout"
        }
      ]
    },
    {
      "cell_type": "markdown",
      "metadata": {
        "id": "-Xn6Lf24Xq4g"
      },
      "source": [
        "### Παρατηρήσεις"
      ]
    },
    {
      "cell_type": "markdown",
      "metadata": {
        "id": "E_tLPt8VXzQz"
      },
      "source": [
        "Παρατηρούμε ότι η boolean Bow μέθοδος χρειάζεται αισθητά περισσότερο χρόνο για να εκτελεστεί από την TF-IDF."
      ]
    },
    {
      "cell_type": "markdown",
      "metadata": {
        "id": "t40FqXqTYKDU"
      },
      "source": [
        "## Άσκηση 4"
      ]
    },
    {
      "cell_type": "code",
      "metadata": {
        "id": "mL85CGe1YO3x"
      },
      "source": [
        "def get_similar_movies2(descr_string, n, method):\n",
        "  df_recommend = df_netflix[['show_id', 'title', 'description']]\n",
        "  titles = df_recommend['title'].tolist()\n",
        "  descriptions = df_recommend['description'].tolist()\n",
        "\n",
        "  descriptions.insert(0, descr_string) # insert description at index 0 of descriptions list\n",
        "  titles.insert(0, \"hypothetical_title\") # in order to move the indexes of the titles list according to the indexes of the descriptions list so title matches descr\n",
        "  print(\"Description: \" + '\"' + str(descriptions[0]) +'\"')\n",
        "  print(n, \"Movies recommended by description:\")\n",
        "\n",
        "  descriptions_tokenized=tokenization(descriptions)\n",
        "  descriptions_lemmatized=lemmatization(descriptions_tokenized)\n",
        "\n",
        "  score_list =[]\n",
        "\n",
        "  if (method ==\"tf-idf\"):\n",
        "    tfvec = TfidfVectorizer(stop_words='english', ngram_range=(1,2), min_df=1, max_df=1.0, max_features=15000)\n",
        "    tf_idf = tfvec.fit_transform(descriptions_lemmatized)\n",
        "    test1 =tf_idf[0].A.tolist()\n",
        "    cj = 1\n",
        "    for j in tf_idf[1:]:\n",
        "      test2 =j.A.tolist()\n",
        "      score = cosine_similarity(tf_idf[0], j)\n",
        "      if score > 0:\n",
        "          score_list.append((score, cj))\n",
        "      cj += 1\n",
        "  elif (method ==\"boolean\"):\n",
        "    cvec = CountVectorizer(stop_words='english', ngram_range=(1,2), min_df=1, max_df=1.0, max_features=15000, binary=True)\n",
        "    bool_bow = cvec.fit_transform(descriptions_lemmatized)\n",
        "    test1 =bool_bow[0].A.tolist()\n",
        "    cj = 1\n",
        "    for j in bool_bow[1:]:\n",
        "      test2 =j.A.tolist()\n",
        "      score = jaccard_score(test1[0], test2[0])\n",
        "      if score > 0:\n",
        "          score_list.append((score, cj))\n",
        "      cj += 1\n",
        "  else:\n",
        "    return -1\n",
        "\n",
        "  score_list.sort(reverse=True)\n",
        "  for index, item in enumerate(score_list[:n]):\n",
        "    index_in_descriptions_list=item[1]\n",
        "    print(str(index+1) + '. ' + str(titles[index_in_descriptions_list]))\n",
        "    print('\"' + str(descriptions[index_in_descriptions_list]) + '\"')"
      ],
      "execution_count": null,
      "outputs": []
    },
    {
      "cell_type": "markdown",
      "metadata": {
        "id": "wqZxxpz5Ysne"
      },
      "source": [
        "### Boolean method results"
      ]
    },
    {
      "cell_type": "code",
      "metadata": {
        "colab": {
          "base_uri": "https://localhost:8080/"
        },
        "id": "h7AdOaRpYhw_",
        "outputId": "4493592f-5f2a-4e56-a58c-7c76c950dd3d"
      },
      "source": [
        "get_similar_movies2(\"Aliens and monsters animal kingdom hunt wild kill\", 10, \"boolean\")"
      ],
      "execution_count": null,
      "outputs": [
        {
          "output_type": "stream",
          "text": [
            "Description: \"Aliens and monsters animal kingdom hunt wild kill\"\n",
            "10 Movies recommended by description:\n",
            "1. MeatEater\n",
            "\"Steven Rinella scrounges in some of America's wildest terrains in this unscripted series showing him on the hunt for wild animals from ducks to deer.\"\n",
            "2. The Making of Frozen Planet\n",
            "\"Documentary crew members brave Earth's most frigid regions to capture the majesty and mystery found in the chillier side of the animal kingdom.\"\n",
            "3. Th Eena Meena Deeka Chase Comedy Show\n",
            "\"A hungry fox and three resourceful, surprisingly formidable birds turn the animal kingdom on its head in this lively animated series.\"\n",
            "4. The Hunt\n",
            "\"Witness some of the most riveting showdowns in the animal kingdom as cameras capture leopards, polar bears and other predators targeting their prey.\"\n",
            "5. Growing Up Wild\n",
            "\"Five baby animals from different parts of the world grow up learning to survive in the wild, nurtured by the love and guidance of their families.\"\n",
            "6. Stars in the Sky: A Hunting Story\n",
            "\"This documentary follows a group of hunters as they grapple with the complexities, controversies, and contradictions of pursuing animals in the wild.\"\n",
            "7. 40 Sticks\n",
            "\"When their prison bus crashes in a forest on a rainy night, a group of criminals finds themselves battling wild animals and a mysterious killer.\"\n",
            "8. MONKART\n",
            "\"Jin and his dragon monster Draka set out on a racing adventure and try to save the kingdom from evil forces.\"\n",
            "9. Super Bheem Bana Vajraveer\n",
            "\"Hoping to find a magical root, a monster has captured farmers in the land of Vyom. It’s up to Bheem and the gang to foil his plan and save the kingdom!\"\n",
            "10. Little Singham in London\n",
            "\"Little Singham is in London to meet the queen, but when the famed Kohinoor Diamond gets stolen, the kid cop goes on a wild, citywide hunt for the thief.\"\n"
          ],
          "name": "stdout"
        }
      ]
    },
    {
      "cell_type": "markdown",
      "metadata": {
        "id": "AAyYcnDAY1pv"
      },
      "source": [
        "### TF-IDF method results"
      ]
    },
    {
      "cell_type": "code",
      "metadata": {
        "colab": {
          "base_uri": "https://localhost:8080/"
        },
        "id": "BU-o6Jd_Yg6n",
        "outputId": "c8d894d3-13e3-46f0-d39b-d281375ef98e"
      },
      "source": [
        "get_similar_movies2(\"Aliens and monsters animal kingdom hunt wild kill\", 10, \"tf-idf\")"
      ],
      "execution_count": null,
      "outputs": [
        {
          "output_type": "stream",
          "text": [
            "Description: \"Aliens and monsters animal kingdom hunt wild kill\"\n",
            "10 Movies recommended by description:\n",
            "1. MeatEater\n",
            "\"Steven Rinella scrounges in some of America's wildest terrains in this unscripted series showing him on the hunt for wild animals from ducks to deer.\"\n",
            "2. The Making of Frozen Planet\n",
            "\"Documentary crew members brave Earth's most frigid regions to capture the majesty and mystery found in the chillier side of the animal kingdom.\"\n",
            "3. Th Eena Meena Deeka Chase Comedy Show\n",
            "\"A hungry fox and three resourceful, surprisingly formidable birds turn the animal kingdom on its head in this lively animated series.\"\n",
            "4. The Hunt\n",
            "\"Witness some of the most riveting showdowns in the animal kingdom as cameras capture leopards, polar bears and other predators targeting their prey.\"\n",
            "5. MONKART\n",
            "\"Jin and his dragon monster Draka set out on a racing adventure and try to save the kingdom from evil forces.\"\n",
            "6. Growing Up Wild\n",
            "\"Five baby animals from different parts of the world grow up learning to survive in the wild, nurtured by the love and guidance of their families.\"\n",
            "7. 40 Sticks\n",
            "\"When their prison bus crashes in a forest on a rainy night, a group of criminals finds themselves battling wild animals and a mysterious killer.\"\n",
            "8. Super Bheem Bana Vajraveer\n",
            "\"Hoping to find a magical root, a monster has captured farmers in the land of Vyom. It’s up to Bheem and the gang to foil his plan and save the kingdom!\"\n",
            "9. Super Monsters: Santa’s Super Monster Helpers\n",
            "\"When Santa needs serious help prepping all of his presents, the Super Monsters lend a hand — and some monster magic — to get every gift out on time!\"\n",
            "10. Stars in the Sky: A Hunting Story\n",
            "\"This documentary follows a group of hunters as they grapple with the complexities, controversies, and contradictions of pursuing animals in the wild.\"\n"
          ],
          "name": "stdout"
        }
      ]
    },
    {
      "cell_type": "markdown",
      "metadata": {
        "id": "81UXsOlUY7HZ"
      },
      "source": [
        "### Παρατηρήσεις"
      ]
    },
    {
      "cell_type": "markdown",
      "metadata": {
        "id": "hu6BLIb9Y-Jl"
      },
      "source": [
        "Η μέθοδος boolean που χρησιμοποιεί Jaccard Similarity δεν αλλάζει ανάλογα με την επανάληψη λέξεων. <br>\n",
        "Η μέθοδος tf-idf που χρησιμοποιεί Cosine Similarity, αντιθέτως, θα μειώσει το similarity αν μία λέξη επαναληφθεί πολλές φορές. <br>\n",
        "Συνεπώς το αν θα αστοχήσουν ή όχι εξαρτάται από τον στόχο μας. <br>\n",
        "Στη συγκεκριμένη περίπτωση εμείς θα προτιμούσαμε την Jaccard, καθώς η επανειλημμένη εμφάνιση μίας λέξης δεν έχει σημασία και δεν θέλουμε να μειώσει την ομοιότητα δύο περιγραφών."
      ]
    }
  ]
}